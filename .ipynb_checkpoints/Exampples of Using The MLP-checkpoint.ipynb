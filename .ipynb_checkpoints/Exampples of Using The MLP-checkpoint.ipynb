{
 "cells": [
  {
   "cell_type": "code",
   "execution_count": 1,
   "metadata": {},
   "outputs": [],
   "source": [
    "import numpy as np"
   ]
  },
  {
   "cell_type": "code",
   "execution_count": 2,
   "metadata": {},
   "outputs": [],
   "source": [
    "x = np.ones((1,40))*np.linspace(0,1,40)"
   ]
  },
  {
   "cell_type": "code",
   "execution_count": 3,
   "metadata": {},
   "outputs": [
    {
     "data": {
      "text/plain": [
       "array([[0.        , 0.02564103, 0.05128205, 0.07692308, 0.1025641 ,\n",
       "        0.12820513, 0.15384615, 0.17948718, 0.20512821, 0.23076923,\n",
       "        0.25641026, 0.28205128, 0.30769231, 0.33333333, 0.35897436,\n",
       "        0.38461538, 0.41025641, 0.43589744, 0.46153846, 0.48717949,\n",
       "        0.51282051, 0.53846154, 0.56410256, 0.58974359, 0.61538462,\n",
       "        0.64102564, 0.66666667, 0.69230769, 0.71794872, 0.74358974,\n",
       "        0.76923077, 0.79487179, 0.82051282, 0.84615385, 0.87179487,\n",
       "        0.8974359 , 0.92307692, 0.94871795, 0.97435897, 1.        ]])"
      ]
     },
     "execution_count": 3,
     "metadata": {},
     "output_type": "execute_result"
    }
   ],
   "source": [
    "x"
   ]
  },
  {
   "cell_type": "code",
   "execution_count": 4,
   "metadata": {},
   "outputs": [],
   "source": [
    "t = np.sin(2*np.pi*x) +np.cos(4*np.pi*x)+ np.random.randn(40)*0.2"
   ]
  },
  {
   "cell_type": "code",
   "execution_count": 5,
   "metadata": {},
   "outputs": [
    {
     "data": {
      "text/plain": [
       "array([[ 1.62703042,  1.2156656 ,  1.71677557,  0.88757599,  0.80226171,\n",
       "         0.50774364,  0.51486696,  0.34138036,  0.01043902, -0.01991365,\n",
       "         0.12465596,  0.09411078,  0.10920463,  0.03147113,  0.7687218 ,\n",
       "         0.62022551,  1.13407989,  0.88553076,  1.25169775,  0.70526005,\n",
       "         0.89800575,  0.59139958,  0.60779501,  0.28833719, -0.747062  ,\n",
       "        -0.93522173, -1.13256102, -1.64565905, -1.87625418, -2.02609161,\n",
       "        -2.3281825 , -1.98889246, -1.61140681, -1.22971281, -0.73805218,\n",
       "        -0.38022407, -0.0926408 ,  0.70703576,  1.13709605,  1.35518318]])"
      ]
     },
     "execution_count": 5,
     "metadata": {},
     "output_type": "execute_result"
    }
   ],
   "source": [
    "t"
   ]
  },
  {
   "cell_type": "code",
   "execution_count": 6,
   "metadata": {},
   "outputs": [],
   "source": [
    "x = x.T\n",
    "t= t.T"
   ]
  },
  {
   "cell_type": "code",
   "execution_count": 7,
   "metadata": {},
   "outputs": [
    {
     "data": {
      "text/plain": [
       "(40,)"
      ]
     },
     "execution_count": 7,
     "metadata": {},
     "output_type": "execute_result"
    }
   ],
   "source": [
    "x= np.linspace(0,1,40)\n",
    "np.shape(x)"
   ]
  },
  {
   "cell_type": "code",
   "execution_count": 8,
   "metadata": {},
   "outputs": [
    {
     "data": {
      "text/plain": [
       "(40,)"
      ]
     },
     "execution_count": 8,
     "metadata": {},
     "output_type": "execute_result"
    }
   ],
   "source": [
    "np.shape(x.T)"
   ]
  },
  {
   "cell_type": "code",
   "execution_count": 9,
   "metadata": {},
   "outputs": [],
   "source": [
    "x = np.linspace(0,1,40).reshape((1,40))"
   ]
  },
  {
   "cell_type": "code",
   "execution_count": 10,
   "metadata": {},
   "outputs": [
    {
     "data": {
      "text/plain": [
       "(1, 40)"
      ]
     },
     "execution_count": 10,
     "metadata": {},
     "output_type": "execute_result"
    }
   ],
   "source": [
    "np.shape(x)"
   ]
  },
  {
   "cell_type": "code",
   "execution_count": 11,
   "metadata": {},
   "outputs": [
    {
     "data": {
      "text/plain": [
       "(40, 1)"
      ]
     },
     "execution_count": 11,
     "metadata": {},
     "output_type": "execute_result"
    }
   ],
   "source": [
    "np.shape(x.T)"
   ]
  },
  {
   "cell_type": "code",
   "execution_count": 12,
   "metadata": {},
   "outputs": [],
   "source": [
    "#Plot"
   ]
  },
  {
   "cell_type": "code",
   "execution_count": 13,
   "metadata": {},
   "outputs": [],
   "source": [
    "import pylab as pl"
   ]
  },
  {
   "cell_type": "code",
   "execution_count": 14,
   "metadata": {},
   "outputs": [
    {
     "data": {
      "text/plain": [
       "[<matplotlib.lines.Line2D at 0x199c4cc6d90>]"
      ]
     },
     "execution_count": 14,
     "metadata": {},
     "output_type": "execute_result"
    },
    {
     "data": {
      "image/png": "[encoded data removed]",
      "text/plain": [
       "<Figure size 432x288 with 1 Axes>"
      ]
     },
     "metadata": {
      "needs_background": "light"
     },
     "output_type": "display_data"
    }
   ],
   "source": [
    "pl.plot(x.T,t ,'.')"
   ]
  },
  {
   "cell_type": "code",
   "execution_count": 15,
   "metadata": {},
   "outputs": [],
   "source": [
    "#Training and Testing"
   ]
  },
  {
   "cell_type": "code",
   "execution_count": 16,
   "metadata": {},
   "outputs": [],
   "source": [
    "train = x.T[0::2,:]\n",
    "test = x.T[1::4,:]\n",
    "valid = x.T[3::4,:]\n",
    "train_target = t[0::2,:]\n",
    "test_target = t[1::4,:]\n",
    "valid_target = t[3::4,:]"
   ]
  },
  {
   "cell_type": "code",
   "execution_count": 17,
   "metadata": {},
   "outputs": [
    {
     "data": {
      "text/plain": [
       "array([[0.        ],\n",
       "       [0.05128205],\n",
       "       [0.1025641 ],\n",
       "       [0.15384615],\n",
       "       [0.20512821],\n",
       "       [0.25641026],\n",
       "       [0.30769231],\n",
       "       [0.35897436],\n",
       "       [0.41025641],\n",
       "       [0.46153846],\n",
       "       [0.51282051],\n",
       "       [0.56410256],\n",
       "       [0.61538462],\n",
       "       [0.66666667],\n",
       "       [0.71794872],\n",
       "       [0.76923077],\n",
       "       [0.82051282],\n",
       "       [0.87179487],\n",
       "       [0.92307692],\n",
       "       [0.97435897]])"
      ]
     },
     "execution_count": 17,
     "metadata": {},
     "output_type": "execute_result"
    }
   ],
   "source": [
    "train"
   ]
  },
  {
   "cell_type": "code",
   "execution_count": 18,
   "metadata": {},
   "outputs": [
    {
     "data": {
      "text/plain": [
       "array([[0.02564103],\n",
       "       [0.12820513],\n",
       "       [0.23076923],\n",
       "       [0.33333333],\n",
       "       [0.43589744],\n",
       "       [0.53846154],\n",
       "       [0.64102564],\n",
       "       [0.74358974],\n",
       "       [0.84615385],\n",
       "       [0.94871795]])"
      ]
     },
     "execution_count": 18,
     "metadata": {},
     "output_type": "execute_result"
    }
   ],
   "source": [
    "test"
   ]
  },
  {
   "cell_type": "code",
   "execution_count": 19,
   "metadata": {},
   "outputs": [
    {
     "data": {
      "text/plain": [
       "array([[0.07692308],\n",
       "       [0.17948718],\n",
       "       [0.28205128],\n",
       "       [0.38461538],\n",
       "       [0.48717949],\n",
       "       [0.58974359],\n",
       "       [0.69230769],\n",
       "       [0.79487179],\n",
       "       [0.8974359 ],\n",
       "       [1.        ]])"
      ]
     },
     "execution_count": 19,
     "metadata": {},
     "output_type": "execute_result"
    }
   ],
   "source": [
    "valid"
   ]
  },
  {
   "cell_type": "code",
   "execution_count": 20,
   "metadata": {},
   "outputs": [
    {
     "ename": "ImportError",
     "evalue": "cannot import name 'mlp' from 'tensorflow.keras.regularizers' (C:\\miniconda\\envs\\venv\\lib\\site-packages\\tensorflow\\keras\\regularizers\\__init__.py)",
     "output_type": "error",
     "traceback": [
      "\u001b[1;31m---------------------------------------------------------------------------\u001b[0m",
      "\u001b[1;31mImportError\u001b[0m                               Traceback (most recent call last)",
      "\u001b[1;32m~\\AppData\\Local\\Temp/ipykernel_12476/19918225.py\u001b[0m in \u001b[0;36m<module>\u001b[1;34m\u001b[0m\n\u001b[1;32m----> 1\u001b[1;33m \u001b[1;32mfrom\u001b[0m \u001b[0mtensorflow\u001b[0m\u001b[1;33m.\u001b[0m\u001b[0mkeras\u001b[0m\u001b[1;33m.\u001b[0m\u001b[0mregularizers\u001b[0m \u001b[1;32mimport\u001b[0m \u001b[0mmlp\u001b[0m\u001b[1;33m\u001b[0m\u001b[1;33m\u001b[0m\u001b[0m\n\u001b[0m",
      "\u001b[1;31mImportError\u001b[0m: cannot import name 'mlp' from 'tensorflow.keras.regularizers' (C:\\miniconda\\envs\\venv\\lib\\site-packages\\tensorflow\\keras\\regularizers\\__init__.py)"
     ]
    }
   ],
   "source": [
    "from tensorflow.keras.regularizers import mlp "
   ]
  },
  {
   "cell_type": "code",
   "execution_count": null,
   "metadata": {},
   "outputs": [],
   "source": [
    "net = mlp.mlp(train,train_target ,3 ,outtype = 'linear')"
   ]
  },
  {
   "cell_type": "code",
   "execution_count": null,
   "metadata": {},
   "outputs": [],
   "source": [
    "net.mlptrain(train ,train_target ,0.25 ,101)"
   ]
  }
 ],
 "metadata": {
  "kernelspec": {
   "display_name": "Python 3 (ipykernel)",
   "language": "python",
   "name": "python3"
  },
  "language_info": {
   "codemirror_mode": {
    "name": "ipython",
    "version": 3
   },
   "file_extension": ".py",
   "mimetype": "text/x-python",
   "name": "python",
   "nbconvert_exporter": "python",
   "pygments_lexer": "ipython3",
   "version": "3.9.5"
  }
 },
 "nbformat": 4,
 "nbformat_minor": 2
}
