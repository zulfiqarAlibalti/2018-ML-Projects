{
 "cells": [
  {
   "cell_type": "code",
   "execution_count": 3,
   "metadata": {
    "collapsed": false,
    "deletable": true,
    "editable": true
   },
   "outputs": [
    {
     "ename": "ImportError",
     "evalue": "No module named 'tensorflow'",
     "output_type": "error",
     "traceback": [
      "\u001b[1;31m---------------------------------------------------------------------------\u001b[0m",
      "\u001b[1;31mImportError\u001b[0m                               Traceback (most recent call last)",
      "\u001b[1;32m<ipython-input-3-41389fad42b5>\u001b[0m in \u001b[0;36m<module>\u001b[1;34m()\u001b[0m\n\u001b[1;32m----> 1\u001b[1;33m \u001b[1;32mimport\u001b[0m \u001b[0mtensorflow\u001b[0m \u001b[1;32mas\u001b[0m \u001b[0mtf\u001b[0m\u001b[1;33m\u001b[0m\u001b[0m\n\u001b[0m",
      "\u001b[1;31mImportError\u001b[0m: No module named 'tensorflow'"
     ]
    }
   ],
   "source": [
    "import tensorflow as tf"
   ]
  },
  {
   "cell_type": "code",
   "execution_count": 4,
   "metadata": {
    "collapsed": true,
    "deletable": true,
    "editable": true
   },
   "outputs": [],
   "source": [
    "import numpy as np"
   ]
  },
  {
   "cell_type": "code",
   "execution_count": 5,
   "metadata": {
    "collapsed": true,
    "deletable": true,
    "editable": true
   },
   "outputs": [],
   "source": [
    "import pandas as pd"
   ]
  },
  {
   "cell_type": "code",
   "execution_count": 6,
   "metadata": {
    "collapsed": true,
    "deletable": true,
    "editable": true
   },
   "outputs": [],
   "source": [
    "import pandas_datareader as dr"
   ]
  },
  {
   "cell_type": "code",
   "execution_count": 7,
   "metadata": {
    "collapsed": true,
    "deletable": true,
    "editable": true
   },
   "outputs": [],
   "source": [
    "import matplotlib.pyplot as plt"
   ]
  },
  {
   "cell_type": "code",
   "execution_count": 8,
   "metadata": {
    "collapsed": false,
    "deletable": true,
    "editable": true
   },
   "outputs": [
    {
     "ename": "ImportError",
     "evalue": "No module named 'tensorflow'",
     "output_type": "error",
     "traceback": [
      "\u001b[1;31m---------------------------------------------------------------------------\u001b[0m",
      "\u001b[1;31mImportError\u001b[0m                               Traceback (most recent call last)",
      "\u001b[1;32m<ipython-input-8-fc398e95b5d4>\u001b[0m in \u001b[0;36m<module>\u001b[1;34m()\u001b[0m\n\u001b[1;32m----> 1\u001b[1;33m \u001b[1;32mfrom\u001b[0m \u001b[0mtensorflow\u001b[0m\u001b[1;33m.\u001b[0m\u001b[0mpython\u001b[0m\u001b[1;33m.\u001b[0m\u001b[0mframework\u001b[0m \u001b[1;32mimport\u001b[0m \u001b[0mops\u001b[0m\u001b[1;33m\u001b[0m\u001b[0m\n\u001b[0m",
      "\u001b[1;31mImportError\u001b[0m: No module named 'tensorflow'"
     ]
    }
   ],
   "source": [
    "from tensorflow.python.framework import ops"
   ]
  },
  {
   "cell_type": "code",
   "execution_count": null,
   "metadata": {
    "collapsed": true,
    "deletable": true,
    "editable": true
   },
   "outputs": [],
   "source": [
    "y_hat=tf.constant(36,name='y_hat')"
   ]
  },
  {
   "cell_type": "code",
   "execution_count": null,
   "metadata": {
    "collapsed": true,
    "deletable": true,
    "editable": true
   },
   "outputs": [],
   "source": [
    "y  =tf.constant(39,name='y')\n"
   ]
  },
  {
   "cell_type": "code",
   "execution_count": null,
   "metadata": {
    "collapsed": true,
    "deletable": true,
    "editable": true
   },
   "outputs": [],
   "source": [
    "loss =tf.Variable((y_hat-y)**2, name='loss')"
   ]
  },
  {
   "cell_type": "code",
   "execution_count": null,
   "metadata": {
    "collapsed": false,
    "deletable": true,
    "editable": true
   },
   "outputs": [],
   "source": [
    "init=tf.global_variables_initializer()\n",
    "with tf.Session() as session:\n",
    "    session.run(init)\n",
    "    print(session.run(loss))"
   ]
  },
  {
   "cell_type": "code",
   "execution_count": null,
   "metadata": {
    "collapsed": false,
    "deletable": true,
    "editable": true
   },
   "outputs": [],
   "source": [
    "a =tf.constant(2)\n",
    "b =tf.constant(10)\n",
    "c=tf.multiply(a,b)\n",
    "print(c)"
   ]
  },
  {
   "cell_type": "code",
   "execution_count": null,
   "metadata": {
    "collapsed": false,
    "deletable": true,
    "editable": true
   },
   "outputs": [],
   "source": [
    "session =tf.Session()\n",
    "print(session.run(c))"
   ]
  },
  {
   "cell_type": "code",
   "execution_count": null,
   "metadata": {
    "collapsed": false,
    "deletable": true,
    "editable": true
   },
   "outputs": [],
   "source": [
    "x =tf.placeholder(tf.int64 ,name='x')\n",
    "print(session.run(2*x,feed_dict ={x:3}))\n",
    "session.close()"
   ]
  },
  {
   "cell_type": "markdown",
   "metadata": {
    "deletable": true,
    "editable": true
   },
   "source": [
    "<h3>Logit Function</h3>"
   ]
  },
  {
   "cell_type": "code",
   "execution_count": null,
   "metadata": {
    "collapsed": false,
    "deletable": true,
    "editable": true
   },
   "outputs": [],
   "source": [
    "np.random.randn(4)"
   ]
  },
  {
   "cell_type": "code",
   "execution_count": null,
   "metadata": {
    "collapsed": false,
    "deletable": true,
    "editable": true
   },
   "outputs": [],
   "source": [
    "np.random.randn(2,3)"
   ]
  },
  {
   "cell_type": "code",
   "execution_count": null,
   "metadata": {
    "collapsed": false,
    "deletable": true,
    "editable": true
   },
   "outputs": [],
   "source": [
    "x1 =tf.constant(5,name='x1')\n",
    "x2 =tf.constant(20,name='x2')\n",
    "Addition =tf.add(x1,x2)\n",
    "with tf.Session() as sess:\n",
    "    result=sess.run(Addition)\n",
    "print(result)    "
   ]
  },
  {
   "cell_type": "code",
   "execution_count": null,
   "metadata": {
    "collapsed": false,
    "deletable": true,
    "editable": true
   },
   "outputs": [],
   "source": [
    "x1 =tf.constant(4,name ='x1')\n",
    "x2 =tf.constant(70 ,name ='x2')\n",
    "Multip =tf.multiply(x1,x2)\n",
    "with tf.Session() as love:\n",
    "     result=love.run(Multip)\n",
    "print(result)   "
   ]
  },
  {
   "cell_type": "code",
   "execution_count": null,
   "metadata": {
    "collapsed": false,
    "deletable": true,
    "editable": true
   },
   "outputs": [],
   "source": [
    "x1 =tf.constant([[2],[4]],name ='x1')\n",
    "x2=tf.constant([[3,6]], name ='x2')\n",
    "operation =tf.matmul(x1,x2)\n",
    "with tf.Session() as sess:\n",
    "    result=sess.run(operation)\n",
    "print(result)    "
   ]
  },
  {
   "cell_type": "markdown",
   "metadata": {
    "deletable": true,
    "editable": true
   },
   "source": [
    "<h1>Exercise</h1>"
   ]
  },
  {
   "cell_type": "code",
   "execution_count": 9,
   "metadata": {
    "collapsed": true,
    "deletable": true,
    "editable": true
   },
   "outputs": [],
   "source": [
    "def compute_logits():\n",
    "    np.random.seed(1)\n",
    "    W =tf.constant(np.random.randn(4,3),name =\"W\")\n",
    "    X =tf.constant(np.random.randn(3,1),name =\"X\")\n",
    "    b =tf.constant(np.random.randn(4,1),name =\"b\")\n",
    "    operation =tf.add(tf.matmul(W,X),b)\n",
    "    sess =tf.Session()\n",
    "    result =sess.run(operation)\n",
    "    print(sess.run(W).dot(sess.run(X))+sess.run(b)==result)\n",
    "    sess.close()\n",
    "    return result"
   ]
  },
  {
   "cell_type": "code",
   "execution_count": 10,
   "metadata": {
    "collapsed": false,
    "deletable": true,
    "editable": true
   },
   "outputs": [
    {
     "ename": "NameError",
     "evalue": "name 'tf' is not defined",
     "output_type": "error",
     "traceback": [
      "\u001b[1;31m---------------------------------------------------------------------------\u001b[0m",
      "\u001b[1;31mNameError\u001b[0m                                 Traceback (most recent call last)",
      "\u001b[1;32m<ipython-input-10-fb890672dae0>\u001b[0m in \u001b[0;36m<module>\u001b[1;34m()\u001b[0m\n\u001b[1;32m----> 1\u001b[1;33m \u001b[0mprint\u001b[0m\u001b[1;33m(\u001b[0m\u001b[1;34m\"result=\"\u001b[0m \u001b[1;33m+\u001b[0m\u001b[0mstr\u001b[0m\u001b[1;33m(\u001b[0m\u001b[0mcompute_logits\u001b[0m\u001b[1;33m(\u001b[0m\u001b[1;33m)\u001b[0m\u001b[1;33m)\u001b[0m\u001b[1;33m)\u001b[0m\u001b[1;33m\u001b[0m\u001b[0m\n\u001b[0m",
      "\u001b[1;32m<ipython-input-9-5daf7c53b0c8>\u001b[0m in \u001b[0;36mcompute_logits\u001b[1;34m()\u001b[0m\n\u001b[0;32m      1\u001b[0m \u001b[1;32mdef\u001b[0m \u001b[0mcompute_logits\u001b[0m\u001b[1;33m(\u001b[0m\u001b[1;33m)\u001b[0m\u001b[1;33m:\u001b[0m\u001b[1;33m\u001b[0m\u001b[0m\n\u001b[0;32m      2\u001b[0m     \u001b[0mnp\u001b[0m\u001b[1;33m.\u001b[0m\u001b[0mrandom\u001b[0m\u001b[1;33m.\u001b[0m\u001b[0mseed\u001b[0m\u001b[1;33m(\u001b[0m\u001b[1;36m1\u001b[0m\u001b[1;33m)\u001b[0m\u001b[1;33m\u001b[0m\u001b[0m\n\u001b[1;32m----> 3\u001b[1;33m     \u001b[0mW\u001b[0m \u001b[1;33m=\u001b[0m\u001b[0mtf\u001b[0m\u001b[1;33m.\u001b[0m\u001b[0mconstant\u001b[0m\u001b[1;33m(\u001b[0m\u001b[0mnp\u001b[0m\u001b[1;33m.\u001b[0m\u001b[0mrandom\u001b[0m\u001b[1;33m.\u001b[0m\u001b[0mrandn\u001b[0m\u001b[1;33m(\u001b[0m\u001b[1;36m4\u001b[0m\u001b[1;33m,\u001b[0m\u001b[1;36m3\u001b[0m\u001b[1;33m)\u001b[0m\u001b[1;33m,\u001b[0m\u001b[0mname\u001b[0m \u001b[1;33m=\u001b[0m\u001b[1;34m\"W\"\u001b[0m\u001b[1;33m)\u001b[0m\u001b[1;33m\u001b[0m\u001b[0m\n\u001b[0m\u001b[0;32m      4\u001b[0m     \u001b[0mX\u001b[0m \u001b[1;33m=\u001b[0m\u001b[0mtf\u001b[0m\u001b[1;33m.\u001b[0m\u001b[0mconstant\u001b[0m\u001b[1;33m(\u001b[0m\u001b[0mnp\u001b[0m\u001b[1;33m.\u001b[0m\u001b[0mrandom\u001b[0m\u001b[1;33m.\u001b[0m\u001b[0mrandn\u001b[0m\u001b[1;33m(\u001b[0m\u001b[1;36m3\u001b[0m\u001b[1;33m,\u001b[0m\u001b[1;36m1\u001b[0m\u001b[1;33m)\u001b[0m\u001b[1;33m,\u001b[0m\u001b[0mname\u001b[0m \u001b[1;33m=\u001b[0m\u001b[1;34m\"X\"\u001b[0m\u001b[1;33m)\u001b[0m\u001b[1;33m\u001b[0m\u001b[0m\n\u001b[0;32m      5\u001b[0m     \u001b[0mb\u001b[0m \u001b[1;33m=\u001b[0m\u001b[0mtf\u001b[0m\u001b[1;33m.\u001b[0m\u001b[0mconstant\u001b[0m\u001b[1;33m(\u001b[0m\u001b[0mnp\u001b[0m\u001b[1;33m.\u001b[0m\u001b[0mrandom\u001b[0m\u001b[1;33m.\u001b[0m\u001b[0mrandn\u001b[0m\u001b[1;33m(\u001b[0m\u001b[1;36m4\u001b[0m\u001b[1;33m,\u001b[0m\u001b[1;36m1\u001b[0m\u001b[1;33m)\u001b[0m\u001b[1;33m,\u001b[0m\u001b[0mname\u001b[0m \u001b[1;33m=\u001b[0m\u001b[1;34m\"b\"\u001b[0m\u001b[1;33m)\u001b[0m\u001b[1;33m\u001b[0m\u001b[0m\n",
      "\u001b[1;31mNameError\u001b[0m: name 'tf' is not defined"
     ]
    }
   ],
   "source": [
    "print(\"result=\" +str(compute_logits()))"
   ]
  },
  {
   "cell_type": "markdown",
   "metadata": {
    "deletable": true,
    "editable": true
   },
   "source": [
    "<h1>Computing the sigmoid function</h1>"
   ]
  },
  {
   "cell_type": "code",
   "execution_count": 11,
   "metadata": {
    "collapsed": true,
    "deletable": true,
    "editable": true
   },
   "outputs": [],
   "source": [
    "def sigmoid(z):\n",
    "   \n",
    "    x =tf.placeholder(tf.float32,name=\"x\")\n",
    "    sigmoid =tf.sigmoid(x)\n",
    "    with tf.Session() as sess:\n",
    "        result=sess.run(sigmoid,feed_dict={x:z})\n",
    "    return result   "
   ]
  },
  {
   "cell_type": "code",
   "execution_count": 12,
   "metadata": {
    "collapsed": false,
    "deletable": true,
    "editable": true
   },
   "outputs": [
    {
     "ename": "NameError",
     "evalue": "name 'tf' is not defined",
     "output_type": "error",
     "traceback": [
      "\u001b[1;31m---------------------------------------------------------------------------\u001b[0m",
      "\u001b[1;31mNameError\u001b[0m                                 Traceback (most recent call last)",
      "\u001b[1;32m<ipython-input-12-ee076f5645bf>\u001b[0m in \u001b[0;36m<module>\u001b[1;34m()\u001b[0m\n\u001b[1;32m----> 1\u001b[1;33m \u001b[0mprint\u001b[0m\u001b[1;33m(\u001b[0m\u001b[1;34m\"sigmoid(0)=\"\u001b[0m\u001b[1;33m+\u001b[0m\u001b[0mstr\u001b[0m\u001b[1;33m(\u001b[0m\u001b[0msigmoid\u001b[0m\u001b[1;33m(\u001b[0m\u001b[1;36m0\u001b[0m\u001b[1;33m)\u001b[0m\u001b[1;33m)\u001b[0m\u001b[1;33m)\u001b[0m\u001b[1;33m\u001b[0m\u001b[0m\n\u001b[0m",
      "\u001b[1;32m<ipython-input-11-0e7bcef62651>\u001b[0m in \u001b[0;36msigmoid\u001b[1;34m(z)\u001b[0m\n\u001b[0;32m      1\u001b[0m \u001b[1;32mdef\u001b[0m \u001b[0msigmoid\u001b[0m\u001b[1;33m(\u001b[0m\u001b[0mz\u001b[0m\u001b[1;33m)\u001b[0m\u001b[1;33m:\u001b[0m\u001b[1;33m\u001b[0m\u001b[0m\n\u001b[0;32m      2\u001b[0m \u001b[1;33m\u001b[0m\u001b[0m\n\u001b[1;32m----> 3\u001b[1;33m     \u001b[0mx\u001b[0m \u001b[1;33m=\u001b[0m\u001b[0mtf\u001b[0m\u001b[1;33m.\u001b[0m\u001b[0mplaceholder\u001b[0m\u001b[1;33m(\u001b[0m\u001b[0mtf\u001b[0m\u001b[1;33m.\u001b[0m\u001b[0mfloat32\u001b[0m\u001b[1;33m,\u001b[0m\u001b[0mname\u001b[0m\u001b[1;33m=\u001b[0m\u001b[1;34m\"x\"\u001b[0m\u001b[1;33m)\u001b[0m\u001b[1;33m\u001b[0m\u001b[0m\n\u001b[0m\u001b[0;32m      4\u001b[0m     \u001b[0msigmoid\u001b[0m \u001b[1;33m=\u001b[0m\u001b[0mtf\u001b[0m\u001b[1;33m.\u001b[0m\u001b[0msigmoid\u001b[0m\u001b[1;33m(\u001b[0m\u001b[0mx\u001b[0m\u001b[1;33m)\u001b[0m\u001b[1;33m\u001b[0m\u001b[0m\n\u001b[0;32m      5\u001b[0m     \u001b[1;32mwith\u001b[0m \u001b[0mtf\u001b[0m\u001b[1;33m.\u001b[0m\u001b[0mSession\u001b[0m\u001b[1;33m(\u001b[0m\u001b[1;33m)\u001b[0m \u001b[1;32mas\u001b[0m \u001b[0msess\u001b[0m\u001b[1;33m:\u001b[0m\u001b[1;33m\u001b[0m\u001b[0m\n",
      "\u001b[1;31mNameError\u001b[0m: name 'tf' is not defined"
     ]
    }
   ],
   "source": [
    "print(\"sigmoid(0)=\"+str(sigmoid(0)))"
   ]
  },
  {
   "cell_type": "code",
   "execution_count": 13,
   "metadata": {
    "collapsed": true,
    "deletable": true,
    "editable": true
   },
   "outputs": [],
   "source": [
    "def cost(predictions,labels):\n",
    "    z =tf.placeholder(tf.float32,name=\"z\")\n",
    "    x =tf.placeholder(tf.float32,name=\"x\")\n",
    "    cost =tf.reduce_mean(tf.square(z-y))\n",
    "    sess =tf.Session()\n",
    "    cost =sess.run(cost,feed_dict ={z:predictions, y:labels})\n",
    "    sess.close()\n",
    "    return cost"
   ]
  },
  {
   "cell_type": "markdown",
   "metadata": {
    "deletable": true,
    "editable": true
   },
   "source": [
    "<h3>Initialize with zeros and ones</h3>"
   ]
  },
  {
   "cell_type": "code",
   "execution_count": 14,
   "metadata": {
    "collapsed": true,
    "deletable": true,
    "editable": true
   },
   "outputs": [],
   "source": [
    "def ones(shape):\n",
    "    ones =tf.ones(shape)\n",
    "    sess=tf.Session()\n",
    "    ones =sess.run(ones)\n",
    "    return ones"
   ]
  },
  {
   "cell_type": "code",
   "execution_count": 15,
   "metadata": {
    "collapsed": false,
    "deletable": true,
    "editable": true
   },
   "outputs": [
    {
     "ename": "NameError",
     "evalue": "name 'tf' is not defined",
     "output_type": "error",
     "traceback": [
      "\u001b[1;31m---------------------------------------------------------------------------\u001b[0m",
      "\u001b[1;31mNameError\u001b[0m                                 Traceback (most recent call last)",
      "\u001b[1;32m<ipython-input-15-5e4240462131>\u001b[0m in \u001b[0;36m<module>\u001b[1;34m()\u001b[0m\n\u001b[1;32m----> 1\u001b[1;33m \u001b[0mprint\u001b[0m\u001b[1;33m(\u001b[0m\u001b[1;34m\"ones=\"\u001b[0m\u001b[1;33m+\u001b[0m\u001b[0mstr\u001b[0m\u001b[1;33m(\u001b[0m\u001b[0mones\u001b[0m\u001b[1;33m(\u001b[0m\u001b[1;33m[\u001b[0m\u001b[1;36m9\u001b[0m\u001b[1;33m]\u001b[0m\u001b[1;33m)\u001b[0m\u001b[1;33m)\u001b[0m\u001b[1;33m)\u001b[0m\u001b[1;33m\u001b[0m\u001b[0m\n\u001b[0m",
      "\u001b[1;32m<ipython-input-14-4a2a4e0892e4>\u001b[0m in \u001b[0;36mones\u001b[1;34m(shape)\u001b[0m\n\u001b[0;32m      1\u001b[0m \u001b[1;32mdef\u001b[0m \u001b[0mones\u001b[0m\u001b[1;33m(\u001b[0m\u001b[0mshape\u001b[0m\u001b[1;33m)\u001b[0m\u001b[1;33m:\u001b[0m\u001b[1;33m\u001b[0m\u001b[0m\n\u001b[1;32m----> 2\u001b[1;33m     \u001b[0mones\u001b[0m \u001b[1;33m=\u001b[0m\u001b[0mtf\u001b[0m\u001b[1;33m.\u001b[0m\u001b[0mones\u001b[0m\u001b[1;33m(\u001b[0m\u001b[0mshape\u001b[0m\u001b[1;33m)\u001b[0m\u001b[1;33m\u001b[0m\u001b[0m\n\u001b[0m\u001b[0;32m      3\u001b[0m     \u001b[0msess\u001b[0m\u001b[1;33m=\u001b[0m\u001b[0mtf\u001b[0m\u001b[1;33m.\u001b[0m\u001b[0mSession\u001b[0m\u001b[1;33m(\u001b[0m\u001b[1;33m)\u001b[0m\u001b[1;33m\u001b[0m\u001b[0m\n\u001b[0;32m      4\u001b[0m     \u001b[0mones\u001b[0m \u001b[1;33m=\u001b[0m\u001b[0msess\u001b[0m\u001b[1;33m.\u001b[0m\u001b[0mrun\u001b[0m\u001b[1;33m(\u001b[0m\u001b[0mones\u001b[0m\u001b[1;33m)\u001b[0m\u001b[1;33m\u001b[0m\u001b[0m\n\u001b[0;32m      5\u001b[0m     \u001b[1;32mreturn\u001b[0m \u001b[0mones\u001b[0m\u001b[1;33m\u001b[0m\u001b[0m\n",
      "\u001b[1;31mNameError\u001b[0m: name 'tf' is not defined"
     ]
    }
   ],
   "source": [
    "print(\"ones=\"+str(ones([9])))"
   ]
  },
  {
   "cell_type": "markdown",
   "metadata": {
    "deletable": true,
    "editable": true
   },
   "source": [
    "<h1>Part II.Credit Scoring</h1>\n",
    "<h3>1-Overview of the data set</h3>"
   ]
  },
  {
   "cell_type": "code",
   "execution_count": 16,
   "metadata": {
    "collapsed": false,
    "deletable": true,
    "editable": true
   },
   "outputs": [
    {
     "data": {
      "text/html": [
       "<div>\n",
       "<style>\n",
       "    .dataframe thead tr:only-child th {\n",
       "        text-align: right;\n",
       "    }\n",
       "\n",
       "    .dataframe thead th {\n",
       "        text-align: left;\n",
       "    }\n",
       "\n",
       "    .dataframe tbody tr th {\n",
       "        vertical-align: top;\n",
       "    }\n",
       "</style>\n",
       "<table border=\"1\" class=\"dataframe\">\n",
       "  <thead>\n",
       "    <tr style=\"text-align: right;\">\n",
       "      <th></th>\n",
       "      <th>Date</th>\n",
       "      <th>Open</th>\n",
       "      <th>High</th>\n",
       "      <th>Low</th>\n",
       "      <th>Close</th>\n",
       "      <th>Adj Close</th>\n",
       "      <th>Volume</th>\n",
       "    </tr>\n",
       "  </thead>\n",
       "  <tbody>\n",
       "    <tr>\n",
       "      <th>0</th>\n",
       "      <td>2018-11-23</td>\n",
       "      <td>1517.000000</td>\n",
       "      <td>1536.199951</td>\n",
       "      <td>1501.810059</td>\n",
       "      <td>1502.060059</td>\n",
       "      <td>1502.060059</td>\n",
       "      <td>2707600</td>\n",
       "    </tr>\n",
       "    <tr>\n",
       "      <th>1</th>\n",
       "      <td>2018-11-26</td>\n",
       "      <td>1539.000000</td>\n",
       "      <td>1584.810059</td>\n",
       "      <td>1524.219971</td>\n",
       "      <td>1581.329956</td>\n",
       "      <td>1581.329956</td>\n",
       "      <td>6257700</td>\n",
       "    </tr>\n",
       "    <tr>\n",
       "      <th>2</th>\n",
       "      <td>2018-11-27</td>\n",
       "      <td>1575.989990</td>\n",
       "      <td>1597.650024</td>\n",
       "      <td>1558.010010</td>\n",
       "      <td>1581.420044</td>\n",
       "      <td>1581.420044</td>\n",
       "      <td>5783200</td>\n",
       "    </tr>\n",
       "    <tr>\n",
       "      <th>3</th>\n",
       "      <td>2018-11-28</td>\n",
       "      <td>1613.920044</td>\n",
       "      <td>1681.449951</td>\n",
       "      <td>1601.219971</td>\n",
       "      <td>1677.750000</td>\n",
       "      <td>1677.750000</td>\n",
       "      <td>8458700</td>\n",
       "    </tr>\n",
       "    <tr>\n",
       "      <th>4</th>\n",
       "      <td>2018-11-29</td>\n",
       "      <td>1674.989990</td>\n",
       "      <td>1689.989990</td>\n",
       "      <td>1652.329956</td>\n",
       "      <td>1673.569946</td>\n",
       "      <td>1673.569946</td>\n",
       "      <td>6613200</td>\n",
       "    </tr>\n",
       "    <tr>\n",
       "      <th>5</th>\n",
       "      <td>2018-11-30</td>\n",
       "      <td>1679.500000</td>\n",
       "      <td>1696.000000</td>\n",
       "      <td>1666.500000</td>\n",
       "      <td>1690.170044</td>\n",
       "      <td>1690.170044</td>\n",
       "      <td>5761800</td>\n",
       "    </tr>\n",
       "    <tr>\n",
       "      <th>6</th>\n",
       "      <td>2018-12-03</td>\n",
       "      <td>1769.459961</td>\n",
       "      <td>1778.339966</td>\n",
       "      <td>1730.000000</td>\n",
       "      <td>1772.359985</td>\n",
       "      <td>1772.359985</td>\n",
       "      <td>6862300</td>\n",
       "    </tr>\n",
       "    <tr>\n",
       "      <th>7</th>\n",
       "      <td>2018-12-04</td>\n",
       "      <td>1756.000000</td>\n",
       "      <td>1770.339966</td>\n",
       "      <td>1665.000000</td>\n",
       "      <td>1668.400024</td>\n",
       "      <td>1668.400024</td>\n",
       "      <td>8694500</td>\n",
       "    </tr>\n",
       "    <tr>\n",
       "      <th>8</th>\n",
       "      <td>2018-12-06</td>\n",
       "      <td>1614.869995</td>\n",
       "      <td>1701.050049</td>\n",
       "      <td>1609.849976</td>\n",
       "      <td>1699.189941</td>\n",
       "      <td>1699.189941</td>\n",
       "      <td>8789400</td>\n",
       "    </tr>\n",
       "    <tr>\n",
       "      <th>9</th>\n",
       "      <td>2018-12-07</td>\n",
       "      <td>1705.069946</td>\n",
       "      <td>1718.930054</td>\n",
       "      <td>1625.459961</td>\n",
       "      <td>1629.130005</td>\n",
       "      <td>1629.130005</td>\n",
       "      <td>7576100</td>\n",
       "    </tr>\n",
       "    <tr>\n",
       "      <th>10</th>\n",
       "      <td>2018-12-10</td>\n",
       "      <td>1623.839966</td>\n",
       "      <td>1657.989990</td>\n",
       "      <td>1590.869995</td>\n",
       "      <td>1641.030029</td>\n",
       "      <td>1641.030029</td>\n",
       "      <td>7494800</td>\n",
       "    </tr>\n",
       "    <tr>\n",
       "      <th>11</th>\n",
       "      <td>2018-12-11</td>\n",
       "      <td>1678.000000</td>\n",
       "      <td>1679.469971</td>\n",
       "      <td>1619.599976</td>\n",
       "      <td>1643.239990</td>\n",
       "      <td>1643.239990</td>\n",
       "      <td>6244700</td>\n",
       "    </tr>\n",
       "    <tr>\n",
       "      <th>12</th>\n",
       "      <td>2018-12-12</td>\n",
       "      <td>1669.000000</td>\n",
       "      <td>1704.989990</td>\n",
       "      <td>1660.270020</td>\n",
       "      <td>1663.540039</td>\n",
       "      <td>1663.540039</td>\n",
       "      <td>6598000</td>\n",
       "    </tr>\n",
       "    <tr>\n",
       "      <th>13</th>\n",
       "      <td>2018-12-13</td>\n",
       "      <td>1680.000000</td>\n",
       "      <td>1692.119995</td>\n",
       "      <td>1641.500000</td>\n",
       "      <td>1658.380005</td>\n",
       "      <td>1658.380005</td>\n",
       "      <td>5271300</td>\n",
       "    </tr>\n",
       "    <tr>\n",
       "      <th>14</th>\n",
       "      <td>2018-12-14</td>\n",
       "      <td>1638.000000</td>\n",
       "      <td>1642.569946</td>\n",
       "      <td>1585.000000</td>\n",
       "      <td>1591.910034</td>\n",
       "      <td>1591.910034</td>\n",
       "      <td>6367200</td>\n",
       "    </tr>\n",
       "    <tr>\n",
       "      <th>15</th>\n",
       "      <td>2018-12-17</td>\n",
       "      <td>1566.000000</td>\n",
       "      <td>1576.130005</td>\n",
       "      <td>1505.010010</td>\n",
       "      <td>1520.910034</td>\n",
       "      <td>1520.910034</td>\n",
       "      <td>8829800</td>\n",
       "    </tr>\n",
       "    <tr>\n",
       "      <th>16</th>\n",
       "      <td>2018-12-18</td>\n",
       "      <td>1540.000000</td>\n",
       "      <td>1567.550049</td>\n",
       "      <td>1523.010010</td>\n",
       "      <td>1551.479980</td>\n",
       "      <td>1551.479980</td>\n",
       "      <td>6523000</td>\n",
       "    </tr>\n",
       "    <tr>\n",
       "      <th>17</th>\n",
       "      <td>2018-12-19</td>\n",
       "      <td>1543.050049</td>\n",
       "      <td>1584.530029</td>\n",
       "      <td>1483.180054</td>\n",
       "      <td>1495.079956</td>\n",
       "      <td>1495.079956</td>\n",
       "      <td>8792200</td>\n",
       "    </tr>\n",
       "    <tr>\n",
       "      <th>18</th>\n",
       "      <td>2018-12-20</td>\n",
       "      <td>1484.000000</td>\n",
       "      <td>1509.500000</td>\n",
       "      <td>1432.689941</td>\n",
       "      <td>1460.829956</td>\n",
       "      <td>1460.829956</td>\n",
       "      <td>9991800</td>\n",
       "    </tr>\n",
       "    <tr>\n",
       "      <th>19</th>\n",
       "      <td>2018-12-21</td>\n",
       "      <td>1464.989990</td>\n",
       "      <td>1480.000000</td>\n",
       "      <td>1363.959961</td>\n",
       "      <td>1377.449951</td>\n",
       "      <td>1377.449951</td>\n",
       "      <td>13640300</td>\n",
       "    </tr>\n",
       "    <tr>\n",
       "      <th>20</th>\n",
       "      <td>2018-12-24</td>\n",
       "      <td>1346.000000</td>\n",
       "      <td>1396.030029</td>\n",
       "      <td>1307.000000</td>\n",
       "      <td>1343.959961</td>\n",
       "      <td>1343.959961</td>\n",
       "      <td>7220000</td>\n",
       "    </tr>\n",
       "    <tr>\n",
       "      <th>21</th>\n",
       "      <td>2018-12-26</td>\n",
       "      <td>1368.890015</td>\n",
       "      <td>1473.160034</td>\n",
       "      <td>1363.010010</td>\n",
       "      <td>1470.900024</td>\n",
       "      <td>1470.900024</td>\n",
       "      <td>10411800</td>\n",
       "    </tr>\n",
       "    <tr>\n",
       "      <th>22</th>\n",
       "      <td>2018-12-27</td>\n",
       "      <td>1454.199951</td>\n",
       "      <td>1469.000000</td>\n",
       "      <td>1390.310059</td>\n",
       "      <td>1461.640015</td>\n",
       "      <td>1461.640015</td>\n",
       "      <td>9722000</td>\n",
       "    </tr>\n",
       "    <tr>\n",
       "      <th>23</th>\n",
       "      <td>2018-12-28</td>\n",
       "      <td>1473.349976</td>\n",
       "      <td>1513.469971</td>\n",
       "      <td>1449.000000</td>\n",
       "      <td>1478.020020</td>\n",
       "      <td>1478.020020</td>\n",
       "      <td>8829000</td>\n",
       "    </tr>\n",
       "    <tr>\n",
       "      <th>24</th>\n",
       "      <td>2018-12-31</td>\n",
       "      <td>1510.800049</td>\n",
       "      <td>1520.760010</td>\n",
       "      <td>1487.000000</td>\n",
       "      <td>1501.969971</td>\n",
       "      <td>1501.969971</td>\n",
       "      <td>6954500</td>\n",
       "    </tr>\n",
       "    <tr>\n",
       "      <th>25</th>\n",
       "      <td>2019-01-02</td>\n",
       "      <td>1465.199951</td>\n",
       "      <td>1553.359985</td>\n",
       "      <td>1460.930054</td>\n",
       "      <td>1539.130005</td>\n",
       "      <td>1539.130005</td>\n",
       "      <td>7983100</td>\n",
       "    </tr>\n",
       "    <tr>\n",
       "      <th>26</th>\n",
       "      <td>2019-01-03</td>\n",
       "      <td>1520.010010</td>\n",
       "      <td>1538.000000</td>\n",
       "      <td>1497.109985</td>\n",
       "      <td>1500.280029</td>\n",
       "      <td>1500.280029</td>\n",
       "      <td>6953200</td>\n",
       "    </tr>\n",
       "    <tr>\n",
       "      <th>27</th>\n",
       "      <td>2019-01-04</td>\n",
       "      <td>1530.000000</td>\n",
       "      <td>1594.000000</td>\n",
       "      <td>1518.310059</td>\n",
       "      <td>1575.390015</td>\n",
       "      <td>1575.390015</td>\n",
       "      <td>9182600</td>\n",
       "    </tr>\n",
       "    <tr>\n",
       "      <th>28</th>\n",
       "      <td>2019-01-07</td>\n",
       "      <td>1602.310059</td>\n",
       "      <td>1634.560059</td>\n",
       "      <td>1589.189941</td>\n",
       "      <td>1629.510010</td>\n",
       "      <td>1629.510010</td>\n",
       "      <td>7993200</td>\n",
       "    </tr>\n",
       "    <tr>\n",
       "      <th>29</th>\n",
       "      <td>2019-01-08</td>\n",
       "      <td>1664.689941</td>\n",
       "      <td>1676.609985</td>\n",
       "      <td>1616.609985</td>\n",
       "      <td>1656.579956</td>\n",
       "      <td>1656.579956</td>\n",
       "      <td>8881400</td>\n",
       "    </tr>\n",
       "    <tr>\n",
       "      <th>...</th>\n",
       "      <td>...</td>\n",
       "      <td>...</td>\n",
       "      <td>...</td>\n",
       "      <td>...</td>\n",
       "      <td>...</td>\n",
       "      <td>...</td>\n",
       "      <td>...</td>\n",
       "    </tr>\n",
       "    <tr>\n",
       "      <th>94</th>\n",
       "      <td>2019-04-11</td>\n",
       "      <td>1848.699951</td>\n",
       "      <td>1849.949951</td>\n",
       "      <td>1840.310059</td>\n",
       "      <td>1844.069946</td>\n",
       "      <td>1844.069946</td>\n",
       "      <td>2654800</td>\n",
       "    </tr>\n",
       "    <tr>\n",
       "      <th>95</th>\n",
       "      <td>2019-04-12</td>\n",
       "      <td>1848.400024</td>\n",
       "      <td>1851.500000</td>\n",
       "      <td>1841.300049</td>\n",
       "      <td>1843.060059</td>\n",
       "      <td>1843.060059</td>\n",
       "      <td>3114400</td>\n",
       "    </tr>\n",
       "    <tr>\n",
       "      <th>96</th>\n",
       "      <td>2019-04-15</td>\n",
       "      <td>1842.000000</td>\n",
       "      <td>1846.849976</td>\n",
       "      <td>1818.900024</td>\n",
       "      <td>1844.869995</td>\n",
       "      <td>1844.869995</td>\n",
       "      <td>3724400</td>\n",
       "    </tr>\n",
       "    <tr>\n",
       "      <th>97</th>\n",
       "      <td>2019-04-16</td>\n",
       "      <td>1851.349976</td>\n",
       "      <td>1869.770020</td>\n",
       "      <td>1848.000000</td>\n",
       "      <td>1863.040039</td>\n",
       "      <td>1863.040039</td>\n",
       "      <td>3044600</td>\n",
       "    </tr>\n",
       "    <tr>\n",
       "      <th>98</th>\n",
       "      <td>2019-04-17</td>\n",
       "      <td>1872.989990</td>\n",
       "      <td>1876.469971</td>\n",
       "      <td>1860.439941</td>\n",
       "      <td>1864.819946</td>\n",
       "      <td>1864.819946</td>\n",
       "      <td>2893500</td>\n",
       "    </tr>\n",
       "    <tr>\n",
       "      <th>99</th>\n",
       "      <td>2019-04-18</td>\n",
       "      <td>1868.790039</td>\n",
       "      <td>1870.819946</td>\n",
       "      <td>1859.479980</td>\n",
       "      <td>1861.689941</td>\n",
       "      <td>1861.689941</td>\n",
       "      <td>2749900</td>\n",
       "    </tr>\n",
       "    <tr>\n",
       "      <th>100</th>\n",
       "      <td>2019-04-22</td>\n",
       "      <td>1855.400024</td>\n",
       "      <td>1888.420044</td>\n",
       "      <td>1845.640015</td>\n",
       "      <td>1887.310059</td>\n",
       "      <td>1887.310059</td>\n",
       "      <td>3373800</td>\n",
       "    </tr>\n",
       "    <tr>\n",
       "      <th>101</th>\n",
       "      <td>2019-04-23</td>\n",
       "      <td>1891.199951</td>\n",
       "      <td>1929.260010</td>\n",
       "      <td>1889.579956</td>\n",
       "      <td>1923.770020</td>\n",
       "      <td>1923.770020</td>\n",
       "      <td>4640400</td>\n",
       "    </tr>\n",
       "    <tr>\n",
       "      <th>102</th>\n",
       "      <td>2019-04-24</td>\n",
       "      <td>1925.000000</td>\n",
       "      <td>1929.689941</td>\n",
       "      <td>1898.160034</td>\n",
       "      <td>1901.750000</td>\n",
       "      <td>1901.750000</td>\n",
       "      <td>3675800</td>\n",
       "    </tr>\n",
       "    <tr>\n",
       "      <th>103</th>\n",
       "      <td>2019-04-25</td>\n",
       "      <td>1917.000000</td>\n",
       "      <td>1922.449951</td>\n",
       "      <td>1900.310059</td>\n",
       "      <td>1902.250000</td>\n",
       "      <td>1902.250000</td>\n",
       "      <td>6099100</td>\n",
       "    </tr>\n",
       "    <tr>\n",
       "      <th>104</th>\n",
       "      <td>2019-04-26</td>\n",
       "      <td>1929.000000</td>\n",
       "      <td>1951.000000</td>\n",
       "      <td>1898.000000</td>\n",
       "      <td>1950.630005</td>\n",
       "      <td>1950.630005</td>\n",
       "      <td>8432600</td>\n",
       "    </tr>\n",
       "    <tr>\n",
       "      <th>105</th>\n",
       "      <td>2019-04-29</td>\n",
       "      <td>1949.000000</td>\n",
       "      <td>1956.339966</td>\n",
       "      <td>1934.089966</td>\n",
       "      <td>1938.430054</td>\n",
       "      <td>1938.430054</td>\n",
       "      <td>4021300</td>\n",
       "    </tr>\n",
       "    <tr>\n",
       "      <th>106</th>\n",
       "      <td>2019-04-30</td>\n",
       "      <td>1930.099976</td>\n",
       "      <td>1935.709961</td>\n",
       "      <td>1906.949951</td>\n",
       "      <td>1926.520020</td>\n",
       "      <td>1926.520020</td>\n",
       "      <td>3506000</td>\n",
       "    </tr>\n",
       "    <tr>\n",
       "      <th>107</th>\n",
       "      <td>2019-05-01</td>\n",
       "      <td>1933.089966</td>\n",
       "      <td>1943.640015</td>\n",
       "      <td>1910.550049</td>\n",
       "      <td>1911.520020</td>\n",
       "      <td>1911.520020</td>\n",
       "      <td>3117000</td>\n",
       "    </tr>\n",
       "    <tr>\n",
       "      <th>108</th>\n",
       "      <td>2019-05-02</td>\n",
       "      <td>1913.329956</td>\n",
       "      <td>1921.550049</td>\n",
       "      <td>1881.869995</td>\n",
       "      <td>1900.819946</td>\n",
       "      <td>1900.819946</td>\n",
       "      <td>3962900</td>\n",
       "    </tr>\n",
       "    <tr>\n",
       "      <th>109</th>\n",
       "      <td>2019-05-03</td>\n",
       "      <td>1949.000000</td>\n",
       "      <td>1964.400024</td>\n",
       "      <td>1936.000000</td>\n",
       "      <td>1962.459961</td>\n",
       "      <td>1962.459961</td>\n",
       "      <td>6381600</td>\n",
       "    </tr>\n",
       "    <tr>\n",
       "      <th>110</th>\n",
       "      <td>2019-05-06</td>\n",
       "      <td>1917.979980</td>\n",
       "      <td>1959.000000</td>\n",
       "      <td>1910.500000</td>\n",
       "      <td>1950.550049</td>\n",
       "      <td>1950.550049</td>\n",
       "      <td>5417800</td>\n",
       "    </tr>\n",
       "    <tr>\n",
       "      <th>111</th>\n",
       "      <td>2019-05-07</td>\n",
       "      <td>1939.989990</td>\n",
       "      <td>1949.099976</td>\n",
       "      <td>1903.380005</td>\n",
       "      <td>1921.000000</td>\n",
       "      <td>1921.000000</td>\n",
       "      <td>5902100</td>\n",
       "    </tr>\n",
       "    <tr>\n",
       "      <th>112</th>\n",
       "      <td>2019-05-08</td>\n",
       "      <td>1918.869995</td>\n",
       "      <td>1935.369995</td>\n",
       "      <td>1910.000000</td>\n",
       "      <td>1917.770020</td>\n",
       "      <td>1917.770020</td>\n",
       "      <td>4078600</td>\n",
       "    </tr>\n",
       "    <tr>\n",
       "      <th>113</th>\n",
       "      <td>2019-05-09</td>\n",
       "      <td>1900.000000</td>\n",
       "      <td>1909.400024</td>\n",
       "      <td>1876.000000</td>\n",
       "      <td>1899.869995</td>\n",
       "      <td>1899.869995</td>\n",
       "      <td>5308300</td>\n",
       "    </tr>\n",
       "    <tr>\n",
       "      <th>114</th>\n",
       "      <td>2019-05-10</td>\n",
       "      <td>1898.000000</td>\n",
       "      <td>1903.790039</td>\n",
       "      <td>1856.000000</td>\n",
       "      <td>1889.979980</td>\n",
       "      <td>1889.979980</td>\n",
       "      <td>5718000</td>\n",
       "    </tr>\n",
       "    <tr>\n",
       "      <th>115</th>\n",
       "      <td>2019-05-13</td>\n",
       "      <td>1836.560059</td>\n",
       "      <td>1846.540039</td>\n",
       "      <td>1818.000000</td>\n",
       "      <td>1822.680054</td>\n",
       "      <td>1822.680054</td>\n",
       "      <td>5783400</td>\n",
       "    </tr>\n",
       "    <tr>\n",
       "      <th>116</th>\n",
       "      <td>2019-05-14</td>\n",
       "      <td>1839.500000</td>\n",
       "      <td>1852.439941</td>\n",
       "      <td>1815.750000</td>\n",
       "      <td>1840.119995</td>\n",
       "      <td>1840.119995</td>\n",
       "      <td>4629100</td>\n",
       "    </tr>\n",
       "    <tr>\n",
       "      <th>117</th>\n",
       "      <td>2019-05-15</td>\n",
       "      <td>1827.949951</td>\n",
       "      <td>1874.430054</td>\n",
       "      <td>1823.000000</td>\n",
       "      <td>1871.150024</td>\n",
       "      <td>1871.150024</td>\n",
       "      <td>4692600</td>\n",
       "    </tr>\n",
       "    <tr>\n",
       "      <th>118</th>\n",
       "      <td>2019-05-16</td>\n",
       "      <td>1885.939941</td>\n",
       "      <td>1917.510010</td>\n",
       "      <td>1882.290039</td>\n",
       "      <td>1907.569946</td>\n",
       "      <td>1907.569946</td>\n",
       "      <td>4707800</td>\n",
       "    </tr>\n",
       "    <tr>\n",
       "      <th>119</th>\n",
       "      <td>2019-05-17</td>\n",
       "      <td>1893.050049</td>\n",
       "      <td>1910.530029</td>\n",
       "      <td>1867.329956</td>\n",
       "      <td>1869.000000</td>\n",
       "      <td>1869.000000</td>\n",
       "      <td>4736600</td>\n",
       "    </tr>\n",
       "    <tr>\n",
       "      <th>120</th>\n",
       "      <td>2019-05-20</td>\n",
       "      <td>1852.689941</td>\n",
       "      <td>1867.780029</td>\n",
       "      <td>1835.540039</td>\n",
       "      <td>1858.969971</td>\n",
       "      <td>1858.969971</td>\n",
       "      <td>3798200</td>\n",
       "    </tr>\n",
       "    <tr>\n",
       "      <th>121</th>\n",
       "      <td>2019-05-21</td>\n",
       "      <td>1874.790039</td>\n",
       "      <td>1879.000000</td>\n",
       "      <td>1846.000000</td>\n",
       "      <td>1857.520020</td>\n",
       "      <td>1857.520020</td>\n",
       "      <td>4005100</td>\n",
       "    </tr>\n",
       "    <tr>\n",
       "      <th>122</th>\n",
       "      <td>2019-05-22</td>\n",
       "      <td>1851.780029</td>\n",
       "      <td>1871.489990</td>\n",
       "      <td>1851.000000</td>\n",
       "      <td>1859.680054</td>\n",
       "      <td>1859.680054</td>\n",
       "      <td>2936600</td>\n",
       "    </tr>\n",
       "    <tr>\n",
       "      <th>123</th>\n",
       "      <td>2019-05-23</td>\n",
       "      <td>1836.589966</td>\n",
       "      <td>1844.000000</td>\n",
       "      <td>1804.199951</td>\n",
       "      <td>1815.479980</td>\n",
       "      <td>1815.479980</td>\n",
       "      <td>4411800</td>\n",
       "    </tr>\n",
       "  </tbody>\n",
       "</table>\n",
       "<p>124 rows × 7 columns</p>\n",
       "</div>"
      ],
      "text/plain": [
       "           Date         Open         High          Low        Close  \\\n",
       "0    2018-11-23  1517.000000  1536.199951  1501.810059  1502.060059   \n",
       "1    2018-11-26  1539.000000  1584.810059  1524.219971  1581.329956   \n",
       "2    2018-11-27  1575.989990  1597.650024  1558.010010  1581.420044   \n",
       "3    2018-11-28  1613.920044  1681.449951  1601.219971  1677.750000   \n",
       "4    2018-11-29  1674.989990  1689.989990  1652.329956  1673.569946   \n",
       "5    2018-11-30  1679.500000  1696.000000  1666.500000  1690.170044   \n",
       "6    2018-12-03  1769.459961  1778.339966  1730.000000  1772.359985   \n",
       "7    2018-12-04  1756.000000  1770.339966  1665.000000  1668.400024   \n",
       "8    2018-12-06  1614.869995  1701.050049  1609.849976  1699.189941   \n",
       "9    2018-12-07  1705.069946  1718.930054  1625.459961  1629.130005   \n",
       "10   2018-12-10  1623.839966  1657.989990  1590.869995  1641.030029   \n",
       "11   2018-12-11  1678.000000  1679.469971  1619.599976  1643.239990   \n",
       "12   2018-12-12  1669.000000  1704.989990  1660.270020  1663.540039   \n",
       "13   2018-12-13  1680.000000  1692.119995  1641.500000  1658.380005   \n",
       "14   2018-12-14  1638.000000  1642.569946  1585.000000  1591.910034   \n",
       "15   2018-12-17  1566.000000  1576.130005  1505.010010  1520.910034   \n",
       "16   2018-12-18  1540.000000  1567.550049  1523.010010  1551.479980   \n",
       "17   2018-12-19  1543.050049  1584.530029  1483.180054  1495.079956   \n",
       "18   2018-12-20  1484.000000  1509.500000  1432.689941  1460.829956   \n",
       "19   2018-12-21  1464.989990  1480.000000  1363.959961  1377.449951   \n",
       "20   2018-12-24  1346.000000  1396.030029  1307.000000  1343.959961   \n",
       "21   2018-12-26  1368.890015  1473.160034  1363.010010  1470.900024   \n",
       "22   2018-12-27  1454.199951  1469.000000  1390.310059  1461.640015   \n",
       "23   2018-12-28  1473.349976  1513.469971  1449.000000  1478.020020   \n",
       "24   2018-12-31  1510.800049  1520.760010  1487.000000  1501.969971   \n",
       "25   2019-01-02  1465.199951  1553.359985  1460.930054  1539.130005   \n",
       "26   2019-01-03  1520.010010  1538.000000  1497.109985  1500.280029   \n",
       "27   2019-01-04  1530.000000  1594.000000  1518.310059  1575.390015   \n",
       "28   2019-01-07  1602.310059  1634.560059  1589.189941  1629.510010   \n",
       "29   2019-01-08  1664.689941  1676.609985  1616.609985  1656.579956   \n",
       "..          ...          ...          ...          ...          ...   \n",
       "94   2019-04-11  1848.699951  1849.949951  1840.310059  1844.069946   \n",
       "95   2019-04-12  1848.400024  1851.500000  1841.300049  1843.060059   \n",
       "96   2019-04-15  1842.000000  1846.849976  1818.900024  1844.869995   \n",
       "97   2019-04-16  1851.349976  1869.770020  1848.000000  1863.040039   \n",
       "98   2019-04-17  1872.989990  1876.469971  1860.439941  1864.819946   \n",
       "99   2019-04-18  1868.790039  1870.819946  1859.479980  1861.689941   \n",
       "100  2019-04-22  1855.400024  1888.420044  1845.640015  1887.310059   \n",
       "101  2019-04-23  1891.199951  1929.260010  1889.579956  1923.770020   \n",
       "102  2019-04-24  1925.000000  1929.689941  1898.160034  1901.750000   \n",
       "103  2019-04-25  1917.000000  1922.449951  1900.310059  1902.250000   \n",
       "104  2019-04-26  1929.000000  1951.000000  1898.000000  1950.630005   \n",
       "105  2019-04-29  1949.000000  1956.339966  1934.089966  1938.430054   \n",
       "106  2019-04-30  1930.099976  1935.709961  1906.949951  1926.520020   \n",
       "107  2019-05-01  1933.089966  1943.640015  1910.550049  1911.520020   \n",
       "108  2019-05-02  1913.329956  1921.550049  1881.869995  1900.819946   \n",
       "109  2019-05-03  1949.000000  1964.400024  1936.000000  1962.459961   \n",
       "110  2019-05-06  1917.979980  1959.000000  1910.500000  1950.550049   \n",
       "111  2019-05-07  1939.989990  1949.099976  1903.380005  1921.000000   \n",
       "112  2019-05-08  1918.869995  1935.369995  1910.000000  1917.770020   \n",
       "113  2019-05-09  1900.000000  1909.400024  1876.000000  1899.869995   \n",
       "114  2019-05-10  1898.000000  1903.790039  1856.000000  1889.979980   \n",
       "115  2019-05-13  1836.560059  1846.540039  1818.000000  1822.680054   \n",
       "116  2019-05-14  1839.500000  1852.439941  1815.750000  1840.119995   \n",
       "117  2019-05-15  1827.949951  1874.430054  1823.000000  1871.150024   \n",
       "118  2019-05-16  1885.939941  1917.510010  1882.290039  1907.569946   \n",
       "119  2019-05-17  1893.050049  1910.530029  1867.329956  1869.000000   \n",
       "120  2019-05-20  1852.689941  1867.780029  1835.540039  1858.969971   \n",
       "121  2019-05-21  1874.790039  1879.000000  1846.000000  1857.520020   \n",
       "122  2019-05-22  1851.780029  1871.489990  1851.000000  1859.680054   \n",
       "123  2019-05-23  1836.589966  1844.000000  1804.199951  1815.479980   \n",
       "\n",
       "       Adj Close    Volume  \n",
       "0    1502.060059   2707600  \n",
       "1    1581.329956   6257700  \n",
       "2    1581.420044   5783200  \n",
       "3    1677.750000   8458700  \n",
       "4    1673.569946   6613200  \n",
       "5    1690.170044   5761800  \n",
       "6    1772.359985   6862300  \n",
       "7    1668.400024   8694500  \n",
       "8    1699.189941   8789400  \n",
       "9    1629.130005   7576100  \n",
       "10   1641.030029   7494800  \n",
       "11   1643.239990   6244700  \n",
       "12   1663.540039   6598000  \n",
       "13   1658.380005   5271300  \n",
       "14   1591.910034   6367200  \n",
       "15   1520.910034   8829800  \n",
       "16   1551.479980   6523000  \n",
       "17   1495.079956   8792200  \n",
       "18   1460.829956   9991800  \n",
       "19   1377.449951  13640300  \n",
       "20   1343.959961   7220000  \n",
       "21   1470.900024  10411800  \n",
       "22   1461.640015   9722000  \n",
       "23   1478.020020   8829000  \n",
       "24   1501.969971   6954500  \n",
       "25   1539.130005   7983100  \n",
       "26   1500.280029   6953200  \n",
       "27   1575.390015   9182600  \n",
       "28   1629.510010   7993200  \n",
       "29   1656.579956   8881400  \n",
       "..           ...       ...  \n",
       "94   1844.069946   2654800  \n",
       "95   1843.060059   3114400  \n",
       "96   1844.869995   3724400  \n",
       "97   1863.040039   3044600  \n",
       "98   1864.819946   2893500  \n",
       "99   1861.689941   2749900  \n",
       "100  1887.310059   3373800  \n",
       "101  1923.770020   4640400  \n",
       "102  1901.750000   3675800  \n",
       "103  1902.250000   6099100  \n",
       "104  1950.630005   8432600  \n",
       "105  1938.430054   4021300  \n",
       "106  1926.520020   3506000  \n",
       "107  1911.520020   3117000  \n",
       "108  1900.819946   3962900  \n",
       "109  1962.459961   6381600  \n",
       "110  1950.550049   5417800  \n",
       "111  1921.000000   5902100  \n",
       "112  1917.770020   4078600  \n",
       "113  1899.869995   5308300  \n",
       "114  1889.979980   5718000  \n",
       "115  1822.680054   5783400  \n",
       "116  1840.119995   4629100  \n",
       "117  1871.150024   4692600  \n",
       "118  1907.569946   4707800  \n",
       "119  1869.000000   4736600  \n",
       "120  1858.969971   3798200  \n",
       "121  1857.520020   4005100  \n",
       "122  1859.680054   2936600  \n",
       "123  1815.479980   4411800  \n",
       "\n",
       "[124 rows x 7 columns]"
      ]
     },
     "execution_count": 16,
     "metadata": {},
     "output_type": "execute_result"
    }
   ],
   "source": [
    "df = pd.read_csv(\"C:data_file\\AMZN.csv\")\n",
    "df\n"
   ]
  },
  {
   "cell_type": "code",
   "execution_count": 17,
   "metadata": {
    "collapsed": true,
    "deletable": true,
    "editable": true
   },
   "outputs": [],
   "source": [
    "x = df[['High','Low','Open','Close']]\n",
    "y =df['Adj Close']"
   ]
  },
  {
   "cell_type": "code",
   "execution_count": 18,
   "metadata": {
    "collapsed": true,
    "deletable": true,
    "editable": true
   },
   "outputs": [],
   "source": [
    "from sklearn.model_selection import train_test_split"
   ]
  },
  {
   "cell_type": "code",
   "execution_count": 19,
   "metadata": {
    "collapsed": true,
    "deletable": true,
    "editable": true
   },
   "outputs": [],
   "source": [
    "x_train,x_test,y_train,y_test = train_test_split(x,y,test_size =0.2)"
   ]
  },
  {
   "cell_type": "code",
   "execution_count": 20,
   "metadata": {
    "collapsed": false,
    "deletable": true,
    "editable": true
   },
   "outputs": [
    {
     "data": {
      "text/plain": [
       "99"
      ]
     },
     "execution_count": 20,
     "metadata": {},
     "output_type": "execute_result"
    }
   ],
   "source": [
    "len(x_train)"
   ]
  },
  {
   "cell_type": "markdown",
   "metadata": {
    "deletable": true,
    "editable": true
   },
   "source": [
    "<h1>2-Data Preprocessing</h1>"
   ]
  },
  {
   "cell_type": "code",
   "execution_count": 21,
   "metadata": {
    "collapsed": false,
    "deletable": true,
    "editable": true
   },
   "outputs": [
    {
     "data": {
      "text/plain": [
       "((99, 4), (99,))"
      ]
     },
     "execution_count": 21,
     "metadata": {},
     "output_type": "execute_result"
    }
   ],
   "source": [
    "x_train.shape ,y_train.shape"
   ]
  },
  {
   "cell_type": "code",
   "execution_count": 22,
   "metadata": {
    "collapsed": false,
    "deletable": true,
    "editable": true
   },
   "outputs": [
    {
     "data": {
      "text/plain": [
       "((25, 4), (25,))"
      ]
     },
     "execution_count": 22,
     "metadata": {},
     "output_type": "execute_result"
    }
   ],
   "source": [
    "x_test.shape ,y_test.shape"
   ]
  },
  {
   "cell_type": "code",
   "execution_count": 23,
   "metadata": {
    "collapsed": false,
    "deletable": true,
    "editable": true
   },
   "outputs": [
    {
     "data": {
      "text/plain": [
       "High     0\n",
       "Low      0\n",
       "Open     0\n",
       "Close    0\n",
       "dtype: int64"
      ]
     },
     "execution_count": 23,
     "metadata": {},
     "output_type": "execute_result"
    }
   ],
   "source": [
    "x_train.isnull().sum()"
   ]
  },
  {
   "cell_type": "code",
   "execution_count": 24,
   "metadata": {
    "collapsed": false,
    "deletable": true,
    "editable": true,
    "scrolled": true
   },
   "outputs": [
    {
     "data": {
      "text/plain": [
       "High     float64\n",
       "Low      float64\n",
       "Open     float64\n",
       "Close    float64\n",
       "dtype: object"
      ]
     },
     "execution_count": 24,
     "metadata": {},
     "output_type": "execute_result"
    }
   ],
   "source": [
    "x_train.dtypes"
   ]
  },
  {
   "cell_type": "code",
   "execution_count": 25,
   "metadata": {
    "collapsed": true,
    "deletable": true,
    "editable": true
   },
   "outputs": [],
   "source": [
    "x_train_final = x_train.values.T\n",
    "x_test_final = x_test.values.T"
   ]
  },
  {
   "cell_type": "code",
   "execution_count": 26,
   "metadata": {
    "collapsed": true,
    "deletable": true,
    "editable": true
   },
   "outputs": [],
   "source": [
    "y_train_final =y_train.values.reshape(1,y_train.count())\n",
    "y_test_final = y_test.values.reshape(1,y_test.count())"
   ]
  },
  {
   "cell_type": "markdown",
   "metadata": {
    "deletable": true,
    "editable": true
   },
   "source": [
    "<h3>Create Placeholder</h3>"
   ]
  },
  {
   "cell_type": "code",
   "execution_count": 27,
   "metadata": {
    "collapsed": true,
    "deletable": true,
    "editable": true
   },
   "outputs": [],
   "source": [
    "def create_placeholder(n_x,n_y):\n",
    "    X =tf.placeholder(tf.float32 ,shape =(n_x ,None),name =\"X\")\n",
    "    Y =tf.placeholder(tf.float32 ,shape =(n_y ,None),name =\"Y\")\n",
    "    return X,Y"
   ]
  },
  {
   "cell_type": "code",
   "execution_count": 28,
   "metadata": {
    "collapsed": false,
    "deletable": true,
    "editable": true
   },
   "outputs": [
    {
     "ename": "NameError",
     "evalue": "name 'tf' is not defined",
     "output_type": "error",
     "traceback": [
      "\u001b[1;31m---------------------------------------------------------------------------\u001b[0m",
      "\u001b[1;31mNameError\u001b[0m                                 Traceback (most recent call last)",
      "\u001b[1;32m<ipython-input-28-09b6df28db08>\u001b[0m in \u001b[0;36m<module>\u001b[1;34m()\u001b[0m\n\u001b[1;32m----> 1\u001b[1;33m \u001b[0mX\u001b[0m\u001b[1;33m,\u001b[0m\u001b[0mY\u001b[0m \u001b[1;33m=\u001b[0m\u001b[0mcreate_placeholder\u001b[0m\u001b[1;33m(\u001b[0m\u001b[1;36m10\u001b[0m\u001b[1;33m,\u001b[0m\u001b[1;36m1\u001b[0m\u001b[1;33m)\u001b[0m\u001b[1;33m\u001b[0m\u001b[0m\n\u001b[0m\u001b[0;32m      2\u001b[0m \u001b[0mprint\u001b[0m\u001b[1;33m(\u001b[0m\u001b[1;34m\"X =\"\u001b[0m \u001b[1;33m+\u001b[0m\u001b[0mstr\u001b[0m\u001b[1;33m(\u001b[0m\u001b[0mX\u001b[0m\u001b[1;33m)\u001b[0m\u001b[1;33m)\u001b[0m\u001b[1;33m\u001b[0m\u001b[0m\n\u001b[0;32m      3\u001b[0m \u001b[0mprint\u001b[0m\u001b[1;33m(\u001b[0m\u001b[1;34m\"Y =\"\u001b[0m\u001b[1;33m+\u001b[0m\u001b[0mstr\u001b[0m\u001b[1;33m(\u001b[0m\u001b[0mY\u001b[0m\u001b[1;33m)\u001b[0m\u001b[1;33m)\u001b[0m\u001b[1;33m\u001b[0m\u001b[0m\n",
      "\u001b[1;32m<ipython-input-27-082ca68213c7>\u001b[0m in \u001b[0;36mcreate_placeholder\u001b[1;34m(n_x, n_y)\u001b[0m\n\u001b[0;32m      1\u001b[0m \u001b[1;32mdef\u001b[0m \u001b[0mcreate_placeholder\u001b[0m\u001b[1;33m(\u001b[0m\u001b[0mn_x\u001b[0m\u001b[1;33m,\u001b[0m\u001b[0mn_y\u001b[0m\u001b[1;33m)\u001b[0m\u001b[1;33m:\u001b[0m\u001b[1;33m\u001b[0m\u001b[0m\n\u001b[1;32m----> 2\u001b[1;33m     \u001b[0mX\u001b[0m \u001b[1;33m=\u001b[0m\u001b[0mtf\u001b[0m\u001b[1;33m.\u001b[0m\u001b[0mplaceholder\u001b[0m\u001b[1;33m(\u001b[0m\u001b[0mtf\u001b[0m\u001b[1;33m.\u001b[0m\u001b[0mfloat32\u001b[0m \u001b[1;33m,\u001b[0m\u001b[0mshape\u001b[0m \u001b[1;33m=\u001b[0m\u001b[1;33m(\u001b[0m\u001b[0mn_x\u001b[0m \u001b[1;33m,\u001b[0m\u001b[1;32mNone\u001b[0m\u001b[1;33m)\u001b[0m\u001b[1;33m,\u001b[0m\u001b[0mname\u001b[0m \u001b[1;33m=\u001b[0m\u001b[1;34m\"X\"\u001b[0m\u001b[1;33m)\u001b[0m\u001b[1;33m\u001b[0m\u001b[0m\n\u001b[0m\u001b[0;32m      3\u001b[0m     \u001b[0mY\u001b[0m \u001b[1;33m=\u001b[0m\u001b[0mtf\u001b[0m\u001b[1;33m.\u001b[0m\u001b[0mplaceholder\u001b[0m\u001b[1;33m(\u001b[0m\u001b[0mtf\u001b[0m\u001b[1;33m.\u001b[0m\u001b[0mfloat32\u001b[0m \u001b[1;33m,\u001b[0m\u001b[0mshape\u001b[0m \u001b[1;33m=\u001b[0m\u001b[1;33m(\u001b[0m\u001b[0mn_y\u001b[0m \u001b[1;33m,\u001b[0m\u001b[1;32mNone\u001b[0m\u001b[1;33m)\u001b[0m\u001b[1;33m,\u001b[0m\u001b[0mname\u001b[0m \u001b[1;33m=\u001b[0m\u001b[1;34m\"Y\"\u001b[0m\u001b[1;33m)\u001b[0m\u001b[1;33m\u001b[0m\u001b[0m\n\u001b[0;32m      4\u001b[0m     \u001b[1;32mreturn\u001b[0m \u001b[0mX\u001b[0m\u001b[1;33m,\u001b[0m\u001b[0mY\u001b[0m\u001b[1;33m\u001b[0m\u001b[0m\n",
      "\u001b[1;31mNameError\u001b[0m: name 'tf' is not defined"
     ]
    }
   ],
   "source": [
    "X,Y =create_placeholder(10,1)\n",
    "print(\"X =\" +str(X))\n",
    "print(\"Y =\"+str(Y))"
   ]
  },
  {
   "cell_type": "markdown",
   "metadata": {
    "deletable": true,
    "editable": true
   },
   "source": [
    "<h3>Initializing the Parameters</h3>"
   ]
  },
  {
   "cell_type": "code",
   "execution_count": null,
   "metadata": {
    "collapsed": true,
    "deletable": true,
    "editable": true
   },
   "outputs": [],
   "source": [
    "def initialize_parameters():\n",
    "    tf.set_random_seed(1)\n",
    "    W1 =tf.get_variable(\"W1\", [5,10],initializer =tf.contrib.layers.xavier_initializer(seed =1))\n",
    "    W2 =tf.get_variable(\"W2\", [10,5],initializer =tf.contrib.layers.xavier_initializer(seed =1))\n",
    "    W3 =tf.get_variable(\"W3\", [1,10],initializer =tf.contrib.layers.xavier_initializer(seed =1))\n",
    "    b1 =tf.get_variable(\"b1\", [5,1],initializer =tf.zeros_initializer())\n",
    "    b2 =tf.get_variable(\"b2\", [10,1],initializer=tf.zeros_initializer())\n",
    "    b3 =tf.get_variable(\"b3\", [1,1],initializer =tf.zeros_initializer())\n",
    "    \n",
    "    parameters  ={\"W1\":W1,\n",
    "                   \"b1\":b1,\n",
    "                   \"W2\":W2,\n",
    "                   \"b2\":b2,\n",
    "                   \"W3\":W3,\n",
    "                   \"b3\":b3}\n",
    "    return parameters"
   ]
  },
  {
   "cell_type": "code",
   "execution_count": null,
   "metadata": {
    "collapsed": false,
    "deletable": true,
    "editable": true
   },
   "outputs": [],
   "source": [
    "tf.reset_default_graph()\n",
    "with tf.Session() as sess:\n",
    "    parameters =initialize_parameters()\n",
    "    print(\"W1=\" +str(parameters[\"W1\"]))\n",
    "    print(\"b1=\" +str(parameters[\"b1\"]))\n",
    "    print(\"W2=\" +str(parameters[\"W2\"]))\n",
    "    print(\"b2=\" +str(parameters[\"b2\"]))"
   ]
  },
  {
   "cell_type": "markdown",
   "metadata": {
    "deletable": true,
    "editable": true
   },
   "source": [
    "<h1>5- Forward propagation in tensorflow</h1>"
   ]
  },
  {
   "cell_type": "code",
   "execution_count": null,
   "metadata": {
    "collapsed": true,
    "deletable": true,
    "editable": true
   },
   "outputs": [],
   "source": [
    "def forward_propagation(X,parameters):\n",
    "    W1 = parameters['W1']\n",
    "    b1 = parameters['b1']\n",
    "    W2 = parameters['W2']\n",
    "    b2 = parameters['b2']\n",
    "    W3 = parameters['W3']\n",
    "    b3 = parameters['b3']\n",
    "    ### START CODE HERE\n",
    "    Z1 =tf.add(tf.matmul(W1,X),b1)\n",
    "    A1 = tf.nn.relu(Z1)\n",
    "    Z2 = tf.add(tf.matmul(W2,A1),b2)\n",
    "    A2 = tf.nn.relu(Z2)\n",
    "    Z3 = tf.add(tf.matmul(W3,A2),b3)\n",
    "    return Z3"
   ]
  },
  {
   "cell_type": "code",
   "execution_count": null,
   "metadata": {
    "collapsed": false,
    "deletable": true,
    "editable": true
   },
   "outputs": [],
   "source": [
    "tf.reset_default_graph()\n",
    "with tf.Session() as sess:\n",
    "    X,Y = create_placeholder(10,1)\n",
    "    parameters = initialize_parameters()\n",
    "    Z3 = forward_propagation(X,parameters)\n",
    "    print(\"Z3 =\" +str(Z3))"
   ]
  },
  {
   "cell_type": "markdown",
   "metadata": {
    "deletable": true,
    "editable": true
   },
   "source": [
    "<h1>6-Compute Cost</h1>"
   ]
  },
  {
   "cell_type": "code",
   "execution_count": null,
   "metadata": {
    "collapsed": true,
    "deletable": true,
    "editable": true
   },
   "outputs": [],
   "source": [
    "def compute_cost(Z3 ,Y):\n",
    "    logits =tf.transpose(Z3)\n",
    "    labels =tf.transpose(Y)\n",
    "    ### START CODE HERE\n",
    "    cost = tf.reduce_mean(tf.nn.sigmoid_cross_entropy_with_logits(logits =logits,labels = labels))\n",
    "    return cost"
   ]
  },
  {
   "cell_type": "code",
   "execution_count": null,
   "metadata": {
    "collapsed": false,
    "deletable": true,
    "editable": true
   },
   "outputs": [],
   "source": [
    "tf.reset_default_graph()\n",
    "with tf.Session() as sess:\n",
    "    X,Y = create_placeholder(10,1)\n",
    "    parameters = initialize_parameters()\n",
    "    Z3 = forward_propagation(X,parameters)\n",
    "    cost = compute_cost(Z3,Y)\n",
    "    print(\"cost = \" +str(cost))"
   ]
  },
  {
   "cell_type": "markdown",
   "metadata": {
    "deletable": true,
    "editable": true
   },
   "source": [
    "<h1>7-Calculating Accuracy</h1>"
   ]
  },
  {
   "cell_type": "code",
   "execution_count": null,
   "metadata": {
    "collapsed": true,
    "deletable": true,
    "editable": true
   },
   "outputs": [],
   "source": [
    "def calcualte_accuracy(z,y):\n",
    "    z_array = np.array(z).T\n",
    "    y_array = np.array(y).T\n",
    "    yhat_labels = (z-array > 0.5).astype(np.int)\n",
    "    correct_labels = np.sum(y_array ==yhat_labels)\n",
    "    accuracy = correct_labels/y_array.shape[0]\n",
    "    return accuracy"
   ]
  },
  {
   "cell_type": "markdown",
   "metadata": {
    "deletable": true,
    "editable": true
   },
   "source": [
    "<h1>8-Backward propagation & parameter updates</h1>"
   ]
  },
  {
   "cell_type": "markdown",
   "metadata": {
    "deletable": true,
    "editable": true
   },
   "source": [
    "<h1>9-Building the model</h1>"
   ]
  },
  {
   "cell_type": "code",
   "execution_count": null,
   "metadata": {
    "collapsed": true,
    "deletable": true,
    "editable": true
   },
   "outputs": [],
   "source": [
    "def model(X_train, Y_train, X_test, Y_test ,learning_rate  =0.0001,num_epochs =501,print_cost = True):\n",
    "    ops.reset_default_graph()\n",
    "    tf.set_random_seed(1)\n",
    "    seed = 3\n",
    "    (n_x,m) = X_train.shape\n",
    "    n_y = Y_train.shape[0]\n",
    "    costs = []\n",
    "    train_acc = []\n",
    "    test_acc = []\n",
    "    X,Y = create_placeholder(n_x,n_y)\n",
    "    parameters = initialize_parameters()\n",
    "    \n",
    "    Z3 = forward_propagation(X,parameters)\n",
    "    cost = compute_cost(Z3,Y)\n",
    "    optimizer = tf.train.GradientDescentOptimizer(learning_rate  = learning_rate).minimize(cost)\n",
    "    init = tf.global_variables_initializer()\n",
    "    with tf.Session() as sess:\n",
    "        sess.run(init)\n",
    "        for epoch in range(num_epochs):\n",
    "            seed = seed+1\n",
    "            _,c = sess.run([optimizer ,cost],feed_dict = {X:X_train , Y:Y_train})\n",
    "            epoch_cost = c\n",
    "            epoch_train_Z = sess.run(Z3,feed_dict ={X:X_train})\n",
    "            epoch_train_accuracy = calculate_accuracy(epoch_test_Z,Y_test)\n",
    "            if print_cost == True and epoch % 100 == 0:\n",
    "                print(\"Cost after epoch %i: %f\" % (epoch ,epoch_cost))\n",
    "            if print_cost == True and epoch % 5 == 0:\n",
    "                costs_acc.append(epoch_train_accuracy)\n",
    "                test_acc.append(epoch_test_accuracy)\n",
    "                plt.plot(np.squeeze(costs))\n",
    "                plt.ylabel('cost')\n",
    "                plt.xlabel('iterations (per tens)')\n",
    "                plt.title(\"Learning rate = \"+str(learning_rate))\n",
    "                plt.show()\n",
    "                plt.figure(figsize = (13,7))\n",
    "                plt.plot(np.squeeze(train_acc),color = \"red\")\n",
    "                plt.plot(np.squeeze(test_acc),color = \"blue\")\n",
    "                plt.ylabel('Accuracy')\n",
    "                plt.xlabel('iterations (per tens)')\n",
    "                plt.title(\"Training Accuracy(Red) vs.Test Accuracy (Blue) Trend\")\n",
    "                plt.show()\n",
    "                parameters = sess.run(parameters)\n",
    "                print(\"Parameters have been trained!\")\n",
    "                train_Z =sess.run(Z3 ,feed_dict ={X:X_train})\n",
    "                train_accuracy = calculate_accuracy(train_Z ,Y_train)\n",
    "                test_Z = sess.run(Z3 ,feed_dict ={X:X_test})\n",
    "                test_accuracy = calculate_accuracy(test_Z,Y_test)\n",
    "                print(\"Train Accuracy:\",train_accuracy)\n",
    "                print(\"Test Accuracy:\",test_accuracy)\n",
    "                return parameters"
   ]
  },
  {
   "cell_type": "code",
   "execution_count": null,
   "metadata": {
    "collapsed": false,
    "deletable": true,
    "editable": true
   },
   "outputs": [],
   "source": [
    "parameters = model(x_train_final,y_train_final ,x_test_final,y_test_final)"
   ]
  },
  {
   "cell_type": "code",
   "execution_count": null,
   "metadata": {
    "collapsed": true,
    "deletable": true,
    "editable": true
   },
   "outputs": [],
   "source": []
  },
  {
   "cell_type": "code",
   "execution_count": null,
   "metadata": {
    "collapsed": true,
    "deletable": true,
    "editable": true
   },
   "outputs": [],
   "source": []
  }
 ],
 "metadata": {
  "kernelspec": {
   "display_name": "Python 3",
   "language": "python",
   "name": "python3"
  },
  "language_info": {
   "codemirror_mode": {
    "name": "ipython",
    "version": 3
   },
   "file_extension": ".py",
   "mimetype": "text/x-python",
   "name": "python",
   "nbconvert_exporter": "python",
   "pygments_lexer": "ipython3",
   "version": "3.5.2"
  }
 },
 "nbformat": 4,
 "nbformat_minor": 2
}
