{
 "cells": [
  {
   "cell_type": "markdown",
   "metadata": {},
   "source": [
    "<h1 style=color:blue;>Booststrapping</h1>"
   ]
  },
  {
   "cell_type": "markdown",
   "metadata": {},
   "source": [
    "Bootstrap is a powerful, computer-based method for statistical inference without relying on too many assumption. in fact, it is widely applied in other statistical inference such as confidence interval, regression model, even the field of machine learning.\n",
    "This markdown notebook focus on introducing the core concepts of Bootstrap than its application."
   ]
  },
  {
   "cell_type": "markdown",
   "metadata": {},
   "source": [
    "<h1 style=color:blue;>The Boostrapping Sampling Method</h1>"
   ]
  },
  {
   "cell_type": "markdown",
   "metadata": {},
   "source": [
    "he basic idea of bootstrap is make inference about a estimatelike  sample mean for a population parameter θ like population mean on sample data.It is a resampling method by independently sampling with replacement from an existing sample data with same sample size n, and performing inference among these resampled data.\n",
    "\n",
    "Generally, bootstrap involves the following steps:"
   ]
  },
  {
   "cell_type": "markdown",
   "metadata": {},
   "source": [
    "<img src=\"bootstrapping.png\" alt=\"Generally, bootstrap involves the following steps:\">"
   ]
  },
  {
   "cell_type": "markdown",
   "metadata": {},
   "source": [
    "1.A sample from population with sample size n.\n",
    "\n",
    "\n",
    "2.Draw a sample from the original sample data with replacement with size n, and replicate B times, each re-sampled sample is called a Bootstrap Sample, and there will totally B Bootstrap Samples.\n",
    "\n",
    "3.Evaluate the statistic of θ for each Bootstrap Sample, and there will be totally B estimates of θ.\n",
    "\n",
    "4.Construct a sampling distribution with these B Bootstrap statistics and use it to make further statistical inference, such as:\n",
    "\n",
    "* Estimating the standard error of statistic for θ.\n",
    "* Obtaining a Confidence Interval for θ."
   ]
  },
  {
   "cell_type": "markdown",
   "metadata": {},
   "source": [
    "### How and why does bootstrap work?"
   ]
  },
  {
   "cell_type": "markdown",
   "metadata": {},
   "source": [
    "This lecture  ,I will divide  into three parts?\n",
    "\n",
    "* initial motivation\n",
    "* simulation technique or  estimated variance of statistic by resampling?\n",
    "* Idea behind draw a sample from the original sample with replacemen"
   ]
  },
  {
   "cell_type": "markdown",
   "metadata": {},
   "source": [
    "### 1. Initial Motivation- The Estimator’s Standard Error"
   ]
  },
  {
   "cell_type": "markdown",
   "metadata": {},
   "source": [
    "The core idea of bootstrap technique is for making certain kinds of statistical inference with the help of modern computer power. When Efron introduced the method, it was particularly motivated by evaluating of the accuracy of an estimator in the field of statistic inference. Usually, estimated standard error are an first step toward thinking critically about the accuracy statistical estimates."
   ]
  },
  {
   "cell_type": "markdown",
   "metadata": {},
   "source": [
    "how bootstrap works and how an estimator’s standard error plays an important role, let’s start with a simple case."
   ]
  },
  {
   "cell_type": "markdown",
   "metadata": {},
   "source": [
    "#### Scenario Case"
   ]
  },
  {
   "cell_type": "markdown",
   "metadata": {},
   "source": [
    " *Imagine that you want to summarize how many times a day do students pick up their smartphone in  lab with totally 100 students. It's hard to summarize the number of pickups in whole lab like a census way. Instead, we make an online survey which also provided the pickup-counting APP. In the next few days, we receive 30 students responses with their number of pickups in a given day. We calculated the mean of these 30 pickups and got an estimate for pickups is 228.06 times.*\n"
   ]
  },
  {
   "cell_type": "code",
   "execution_count": 1,
   "metadata": {},
   "outputs": [],
   "source": [
    "import numpy as np\n",
    "import matplotlib.pyplot as plt"
   ]
  },
  {
   "cell_type": "code",
   "execution_count": 9,
   "metadata": {},
   "outputs": [
    {
     "data": {
      "text/plain": [
       "array([102, 435, 348, 270, 106,  71, 188,  20, 102, 121, 466, 214, 330,\n",
       "       458,  87, 372,  99, 359, 151, 130, 149, 308, 257, 343, 491, 413,\n",
       "       293, 385, 191, 443, 276, 160, 459, 313,  21, 252, 235, 344,  48,\n",
       "       474,  58, 169, 475, 187, 463, 270, 189, 445, 174, 445,  50, 363,\n",
       "        54, 243, 319, 130, 484, 306, 134,  20, 328, 166, 273, 387,  88,\n",
       "       315,  13, 241, 264, 345,  52, 385, 339,  91, 366, 443, 454, 427,\n",
       "       263, 430,  34, 205,  80, 419,  49, 359, 387,   1, 389,  53, 105,\n",
       "       259, 309, 476, 190, 401, 217,  43, 161, 201])"
      ]
     },
     "execution_count": 9,
     "metadata": {},
     "output_type": "execute_result"
    }
   ],
   "source": [
    "# construct a population pickups for our lab\n",
    "np.random.seed(42)\n",
    "pickups = np.random.randint(0,500 , size=100)\n",
    "pickups"
   ]
  },
  {
   "cell_type": "code",
   "execution_count": 10,
   "metadata": {},
   "outputs": [
    {
     "data": {
      "text/plain": [
       "252.7"
      ]
     },
     "execution_count": 10,
     "metadata": {},
     "output_type": "execute_result"
    }
   ],
   "source": [
    "# population mean\n",
    "pickups.mean()"
   ]
  },
  {
   "cell_type": "code",
   "execution_count": 11,
   "metadata": {},
   "outputs": [
    {
     "data": {
      "text/plain": [
       "144.25342283634035"
      ]
     },
     "execution_count": 11,
     "metadata": {},
     "output_type": "execute_result"
    }
   ],
   "source": [
    "# population standard deviation\n",
    "pickups.std()"
   ]
  },
  {
   "cell_type": "code",
   "execution_count": 12,
   "metadata": {},
   "outputs": [
    {
     "data": {
      "text/plain": [
       "array([166, 201, 458, 190, 445,  87, 385, 427, 387, 166, 474,  49, 430,\n",
       "       205,  54, 343, 413, 389,  20,  58, 191,  87, 463,  88, 389,  52,\n",
       "       102,   1, 102,  20])"
      ]
     },
     "execution_count": 12,
     "metadata": {},
     "output_type": "execute_result"
    }
   ],
   "source": [
    "# draw a sample from population\n",
    "sample = np.random.choice(pickups, size=30)\n",
    "sample"
   ]
  },
  {
   "cell_type": "code",
   "execution_count": 13,
   "metadata": {},
   "outputs": [
    {
     "data": {
      "text/plain": [
       "228.06666666666666"
      ]
     },
     "execution_count": 13,
     "metadata": {},
     "output_type": "execute_result"
    }
   ],
   "source": [
    "# our first sample mean\n",
    "sample_mean = sample.mean()\n",
    "sample_mean"
   ]
  },
  {
   "cell_type": "code",
   "execution_count": 14,
   "metadata": {},
   "outputs": [
    {
     "data": {
      "text/plain": [
       "166.96890756052164"
      ]
     },
     "execution_count": 14,
     "metadata": {},
     "output_type": "execute_result"
    }
   ],
   "source": [
    "# standard deiveation for this sample\n",
    "sample_std = np.std(sample, ddof=1)\n",
    "sample_std"
   ]
  },
  {
   "cell_type": "code",
   "execution_count": 15,
   "metadata": {},
   "outputs": [
    {
     "data": {
      "text/plain": [
       "30.48421235763086"
      ]
     },
     "execution_count": 15,
     "metadata": {},
     "output_type": "execute_result"
    }
   ],
   "source": [
    "# estimated standard error for the sapmle mann\n",
    "sample_std/(30 ** 0.5)"
   ]
  },
  {
   "cell_type": "markdown",
   "metadata": {},
   "source": [
    "The process above is called a **point estimate**. What we would like to know is the true number of pickups in whole lab. We don’t have census data, what we can do is just evaluate the **population parameter** through an **estimator** based on an observed sample, and then get an **estimate** as the evaluation of average smartphone usage in the lab."
   ]
  },
  {
   "cell_type": "markdown",
   "metadata": {},
   "source": [
    "* **Estimator/Statistic:** A rule for calculating an estimate. In this case is Sample mean, always denoted as X̄.\n",
    "\n",
    "* **Population Parameter:** Numeric summary about a population. In this case is the average time of phone pickups per day in our lab, always denoted as μ."
   ]
  },
  {
   "cell_type": "markdown",
   "metadata": {},
   "source": [
    "### The Standard Error\n",
    "\n",
    "The standard error of an estimator is it’s standard deviation. It tells us how far your sample estimate deviates from the actual parameter. If the standard error itself involves unknown parameters, we used the estimated standard error by replacing the unknown parameters with an estimate of the parameters."
   ]
  },
  {
   "cell_type": "markdown",
   "metadata": {},
   "source": [
    "Let’s take an example. In our case, our estimator is sample mean, and for sample mean(and nearly only one!), we have an simple formula to easily obtain it’s standard error."
   ]
  },
  {
   "cell_type": "markdown",
   "metadata": {},
   "source": [
    "<img src=\"stdv.png\" alt=\"Generally, bootstrap involves the following steps:\">"
   ]
  },
  {
   "cell_type": "markdown",
   "metadata": {},
   "source": [
    "However, the standard deviation of population σ is always unknown in real world, so the most common measurement is the estimated standard error, which use the sample standard deviation S as a estimated standard deviation of the population:"
   ]
  },
  {
   "cell_type": "markdown",
   "metadata": {},
   "source": [
    "<img src=\"samplestdv.png\" alt=\"Generally, bootstrap involves the following steps:\">"
   ]
  },
  {
   "cell_type": "markdown",
   "metadata": {},
   "source": [
    "In our case, we have sample with 30, and sample mean is 228.06, and the sample standard deviation is 166.97, so our estimated standard error for our sample mean is 166.97/ √30 = 30.48."
   ]
  },
  {
   "cell_type": "code",
   "execution_count": null,
   "metadata": {},
   "outputs": [],
   "source": []
  }
 ],
 "metadata": {
  "kernelspec": {
   "display_name": "python 3.6(tensorflow)",
   "language": "python",
   "name": "tensorflow"
  },
  "language_info": {
   "codemirror_mode": {
    "name": "ipython",
    "version": 3
   },
   "file_extension": ".py",
   "mimetype": "text/x-python",
   "name": "python",
   "nbconvert_exporter": "python",
   "pygments_lexer": "ipython3",
   "version": "3.6.10"
  }
 },
 "nbformat": 4,
 "nbformat_minor": 4
}
