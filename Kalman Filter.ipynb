{
 "cells": [
  {
   "cell_type": "markdown",
   "metadata": {},
   "source": [
    "<h1 style ='color:blue;'>Kalman Filter</h1>"
   ]
  },
  {
   "cell_type": "markdown",
   "metadata": {},
   "source": [
    "What is Gaussian though?"
   ]
  },
  {
   "cell_type": "markdown",
   "metadata": {},
   "source": [
    "Gaussian is a continuous function over the space of locations and area underneath sums up to 1.The Guassian define by two parameters ,the mean ,often abbriviated with the Greek letter Mu ,and the width of the Gaussian often called the variance(Sigma square)"
   ]
  },
  {
   "cell_type": "markdown",
   "metadata": {},
   "source": [
    "$$ f(x) =  \\frac{1}{\\sqrt(2\\pi\\sigma^2)}\\exp-(x-u)^2/2\\sigma^2 $$"
   ]
  },
  {
   "cell_type": "markdown",
   "metadata": {},
   "source": [
    "What is variance ?"
   ]
  },
  {
   "cell_type": "markdown",
   "metadata": {},
   "source": [
    "Varaince is the measure of Gaussian spread of area under yhe curve)."
   ]
  },
  {
   "cell_type": "code",
   "execution_count": 1,
   "metadata": {},
   "outputs": [],
   "source": [
    "from math import *\n",
    "import matplotlib.pyplot as plt\n",
    "import numpy as np"
   ]
  },
  {
   "cell_type": "code",
   "execution_count": 5,
   "metadata": {},
   "outputs": [],
   "source": [
    "def f(mu ,sigma2 ,x):\n",
    "    coffie = 1.0/sqrt(2*pi*sigma2)\n",
    "    exp = exp(-(x-mu)**2 /sigma2)\n",
    "    return coffie*exp    "
   ]
  },
  {
   "cell_type": "markdown",
   "metadata": {},
   "source": [
    "How to shift the mean?"
   ]
  },
  {
   "cell_type": "markdown",
   "metadata": {},
   "source": [
    "In Kalman filter ,we iterate measurements(measurement update) and motion(prediction)."
   ]
  },
  {
   "cell_type": "markdown",
   "metadata": {},
   "source": [
    "Implemenatation in code is as follows:"
   ]
  },
  {
   "cell_type": "code",
   "execution_count": 27,
   "metadata": {},
   "outputs": [],
   "source": [
    "#the update function\n",
    "def update(mean1 ,var1 ,mean2 ,var2):\n",
    "    ''' \n",
    "    This function takes in two means and two squared variance term and return \n",
    "    update gaussian parameters.'''\n",
    "    \n",
    "#Calculate the new parametrs\n",
    "    new_mean = (var2*mean1 + var1*mean2)/(var2 + var1)\n",
    "    new_var = 1/(1/var2 + 1/var1)\n",
    "    return [new_mean, new_var]"
   ]
  },
  {
   "cell_type": "markdown",
   "metadata": {},
   "source": [
    "How to implement the Gaussian motion?"
   ]
  },
  {
   "cell_type": "markdown",
   "metadata": {},
   "source": [
    "1.Anew mean is our old mean plus the motion often called u.So ,if you move over 10 meters in the x-direction,this will be 10 meters and you knew sigma square inyour old sigma squared plus the variance of the motion Gaussian.\n",
    "This is all we need to know ,it's just addition."
   ]
  },
  {
   "cell_type": "markdown",
   "metadata": {},
   "source": [
    "2.The resulting Gaussian in the prediction step just adds these two things uo,mu plus u and sigma squared plus r squared."
   ]
  },
  {
   "cell_type": "markdown",
   "metadata": {},
   "source": [
    "it's implentation in code is as follows:"
   ]
  },
  {
   "cell_type": "code",
   "execution_count": 28,
   "metadata": {},
   "outputs": [],
   "source": [
    "#the motion update /predict function\n",
    "def predict(mean1 ,var1 ,mean2 ,var2):\n",
    "    ''' This function takes in two means and two squared variance terms,and returns\n",
    "    updated gaussian parameters ,after motion.'''\n",
    "    #Calculate the new parameters\n",
    "    new_mean = mean1 +mean2\n",
    "    new_var =var1 +var2\n",
    "    return[new_mean ,new_var]"
   ]
  },
  {
   "cell_type": "code",
   "execution_count": null,
   "metadata": {},
   "outputs": [],
   "source": []
  }
 ],
 "metadata": {
  "kernelspec": {
   "display_name": "Python 3 (ipykernel)",
   "language": "python",
   "name": "python3"
  },
  "language_info": {
   "codemirror_mode": {
    "name": "ipython",
    "version": 3
   },
   "file_extension": ".py",
   "mimetype": "text/x-python",
   "name": "python",
   "nbconvert_exporter": "python",
   "pygments_lexer": "ipython3",
   "version": "3.9.5"
  }
 },
 "nbformat": 4,
 "nbformat_minor": 2
}
