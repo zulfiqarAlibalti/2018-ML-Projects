{
 "cells": [
  {
   "cell_type": "code",
   "execution_count": 1,
   "metadata": {},
   "outputs": [],
   "source": [
    "import numpy"
   ]
  },
  {
   "cell_type": "code",
   "execution_count": 2,
   "metadata": {},
   "outputs": [],
   "source": [
    "import pandas as pd"
   ]
  },
  {
   "cell_type": "code",
   "execution_count": 3,
   "metadata": {},
   "outputs": [],
   "source": [
    "# pandas Series"
   ]
  },
  {
   "cell_type": "code",
   "execution_count": 4,
   "metadata": {},
   "outputs": [
    {
     "data": {
      "text/plain": [
       "a    1\n",
       "b    2\n",
       "c    3\n",
       "d    4\n",
       "dtype: int64"
      ]
     },
     "execution_count": 4,
     "metadata": {},
     "output_type": "execute_result"
    }
   ],
   "source": [
    "s = pd.Series([1,2,3,4], index = ['a','b','c','d'])\n",
    "s"
   ]
  },
  {
   "cell_type": "code",
   "execution_count": 5,
   "metadata": {},
   "outputs": [],
   "source": [
    "# Pandas Dataframe"
   ]
  },
  {
   "cell_type": "code",
   "execution_count": 6,
   "metadata": {},
   "outputs": [],
   "source": [
    "data = {'Country':\n",
    "       ['Pakistan','USA','India'],\n",
    "       'Capital':['Islamabad','Washinton','Dehli'],\n",
    "       'Population':['220M','320M','1300M']}\n",
    "        \n",
    "df = pd.DataFrame(data,columns = ['Country','Capital','Population'])"
   ]
  },
  {
   "cell_type": "code",
   "execution_count": 7,
   "metadata": {},
   "outputs": [
    {
     "data": {
      "text/html": [
       "<div>\n",
       "<style scoped>\n",
       "    .dataframe tbody tr th:only-of-type {\n",
       "        vertical-align: middle;\n",
       "    }\n",
       "\n",
       "    .dataframe tbody tr th {\n",
       "        vertical-align: top;\n",
       "    }\n",
       "\n",
       "    .dataframe thead th {\n",
       "        text-align: right;\n",
       "    }\n",
       "</style>\n",
       "<table border=\"1\" class=\"dataframe\">\n",
       "  <thead>\n",
       "    <tr style=\"text-align: right;\">\n",
       "      <th></th>\n",
       "      <th>Country</th>\n",
       "      <th>Capital</th>\n",
       "      <th>Population</th>\n",
       "    </tr>\n",
       "  </thead>\n",
       "  <tbody>\n",
       "    <tr>\n",
       "      <th>0</th>\n",
       "      <td>Pakistan</td>\n",
       "      <td>Islamabad</td>\n",
       "      <td>220M</td>\n",
       "    </tr>\n",
       "    <tr>\n",
       "      <th>1</th>\n",
       "      <td>USA</td>\n",
       "      <td>Washinton</td>\n",
       "      <td>320M</td>\n",
       "    </tr>\n",
       "    <tr>\n",
       "      <th>2</th>\n",
       "      <td>India</td>\n",
       "      <td>Dehli</td>\n",
       "      <td>1300M</td>\n",
       "    </tr>\n",
       "  </tbody>\n",
       "</table>\n",
       "</div>"
      ],
      "text/plain": [
       "    Country    Capital Population\n",
       "0  Pakistan  Islamabad       220M\n",
       "1       USA  Washinton       320M\n",
       "2     India      Dehli      1300M"
      ]
     },
     "execution_count": 7,
     "metadata": {},
     "output_type": "execute_result"
    }
   ],
   "source": [
    "df"
   ]
  },
  {
   "cell_type": "code",
   "execution_count": 8,
   "metadata": {},
   "outputs": [],
   "source": [
    "# How you can handle duplicate values in a dataset for a variable in Python"
   ]
  },
  {
   "cell_type": "code",
   "execution_count": 9,
   "metadata": {},
   "outputs": [],
   "source": [
    "data = pd.read_csv('BMW.DE.csv')"
   ]
  },
  {
   "cell_type": "code",
   "execution_count": 10,
   "metadata": {},
   "outputs": [
    {
     "data": {
      "text/html": [
       "<div>\n",
       "<style scoped>\n",
       "    .dataframe tbody tr th:only-of-type {\n",
       "        vertical-align: middle;\n",
       "    }\n",
       "\n",
       "    .dataframe tbody tr th {\n",
       "        vertical-align: top;\n",
       "    }\n",
       "\n",
       "    .dataframe thead th {\n",
       "        text-align: right;\n",
       "    }\n",
       "</style>\n",
       "<table border=\"1\" class=\"dataframe\">\n",
       "  <thead>\n",
       "    <tr style=\"text-align: right;\">\n",
       "      <th></th>\n",
       "      <th>Date</th>\n",
       "      <th>Open</th>\n",
       "      <th>High</th>\n",
       "      <th>Low</th>\n",
       "      <th>Close</th>\n",
       "      <th>Adj Close</th>\n",
       "      <th>Volume</th>\n",
       "    </tr>\n",
       "  </thead>\n",
       "  <tbody>\n",
       "    <tr>\n",
       "      <th>0</th>\n",
       "      <td>2018-07-10</td>\n",
       "      <td>80.540001</td>\n",
       "      <td>80.540001</td>\n",
       "      <td>79.760002</td>\n",
       "      <td>80.010002</td>\n",
       "      <td>75.998039</td>\n",
       "      <td>1154715</td>\n",
       "    </tr>\n",
       "    <tr>\n",
       "      <th>1</th>\n",
       "      <td>2018-07-11</td>\n",
       "      <td>79.250000</td>\n",
       "      <td>79.599998</td>\n",
       "      <td>78.239998</td>\n",
       "      <td>78.870003</td>\n",
       "      <td>74.915207</td>\n",
       "      <td>1715985</td>\n",
       "    </tr>\n",
       "    <tr>\n",
       "      <th>2</th>\n",
       "      <td>2018-07-12</td>\n",
       "      <td>80.599998</td>\n",
       "      <td>80.730003</td>\n",
       "      <td>79.099998</td>\n",
       "      <td>79.370003</td>\n",
       "      <td>75.390137</td>\n",
       "      <td>1557826</td>\n",
       "    </tr>\n",
       "    <tr>\n",
       "      <th>3</th>\n",
       "      <td>2018-07-13</td>\n",
       "      <td>79.900002</td>\n",
       "      <td>80.059998</td>\n",
       "      <td>79.309998</td>\n",
       "      <td>79.620003</td>\n",
       "      <td>75.627594</td>\n",
       "      <td>1053721</td>\n",
       "    </tr>\n",
       "    <tr>\n",
       "      <th>4</th>\n",
       "      <td>2018-07-16</td>\n",
       "      <td>79.550003</td>\n",
       "      <td>79.980003</td>\n",
       "      <td>78.769997</td>\n",
       "      <td>79.290001</td>\n",
       "      <td>75.314140</td>\n",
       "      <td>963914</td>\n",
       "    </tr>\n",
       "    <tr>\n",
       "      <th>...</th>\n",
       "      <td>...</td>\n",
       "      <td>...</td>\n",
       "      <td>...</td>\n",
       "      <td>...</td>\n",
       "      <td>...</td>\n",
       "      <td>...</td>\n",
       "      <td>...</td>\n",
       "    </tr>\n",
       "    <tr>\n",
       "      <th>247</th>\n",
       "      <td>2019-07-04</td>\n",
       "      <td>66.440002</td>\n",
       "      <td>67.470001</td>\n",
       "      <td>66.440002</td>\n",
       "      <td>67.110001</td>\n",
       "      <td>67.110001</td>\n",
       "      <td>1641200</td>\n",
       "    </tr>\n",
       "    <tr>\n",
       "      <th>248</th>\n",
       "      <td>2019-07-05</td>\n",
       "      <td>67.290001</td>\n",
       "      <td>67.410004</td>\n",
       "      <td>66.589996</td>\n",
       "      <td>67.050003</td>\n",
       "      <td>67.050003</td>\n",
       "      <td>1332435</td>\n",
       "    </tr>\n",
       "    <tr>\n",
       "      <th>249</th>\n",
       "      <td>2019-07-08</td>\n",
       "      <td>66.610001</td>\n",
       "      <td>67.410004</td>\n",
       "      <td>66.480003</td>\n",
       "      <td>66.699997</td>\n",
       "      <td>66.699997</td>\n",
       "      <td>1091683</td>\n",
       "    </tr>\n",
       "    <tr>\n",
       "      <th>250</th>\n",
       "      <td>2019-07-09</td>\n",
       "      <td>66.349998</td>\n",
       "      <td>66.500000</td>\n",
       "      <td>65.250000</td>\n",
       "      <td>66.169998</td>\n",
       "      <td>66.169998</td>\n",
       "      <td>1823803</td>\n",
       "    </tr>\n",
       "    <tr>\n",
       "      <th>251</th>\n",
       "      <td>2019-07-10</td>\n",
       "      <td>65.589996</td>\n",
       "      <td>66.209999</td>\n",
       "      <td>65.489998</td>\n",
       "      <td>65.650002</td>\n",
       "      <td>65.650002</td>\n",
       "      <td>1386605</td>\n",
       "    </tr>\n",
       "  </tbody>\n",
       "</table>\n",
       "<p>252 rows × 7 columns</p>\n",
       "</div>"
      ],
      "text/plain": [
       "           Date       Open       High        Low      Close  Adj Close  \\\n",
       "0    2018-07-10  80.540001  80.540001  79.760002  80.010002  75.998039   \n",
       "1    2018-07-11  79.250000  79.599998  78.239998  78.870003  74.915207   \n",
       "2    2018-07-12  80.599998  80.730003  79.099998  79.370003  75.390137   \n",
       "3    2018-07-13  79.900002  80.059998  79.309998  79.620003  75.627594   \n",
       "4    2018-07-16  79.550003  79.980003  78.769997  79.290001  75.314140   \n",
       "..          ...        ...        ...        ...        ...        ...   \n",
       "247  2019-07-04  66.440002  67.470001  66.440002  67.110001  67.110001   \n",
       "248  2019-07-05  67.290001  67.410004  66.589996  67.050003  67.050003   \n",
       "249  2019-07-08  66.610001  67.410004  66.480003  66.699997  66.699997   \n",
       "250  2019-07-09  66.349998  66.500000  65.250000  66.169998  66.169998   \n",
       "251  2019-07-10  65.589996  66.209999  65.489998  65.650002  65.650002   \n",
       "\n",
       "      Volume  \n",
       "0    1154715  \n",
       "1    1715985  \n",
       "2    1557826  \n",
       "3    1053721  \n",
       "4     963914  \n",
       "..       ...  \n",
       "247  1641200  \n",
       "248  1332435  \n",
       "249  1091683  \n",
       "250  1823803  \n",
       "251  1386605  \n",
       "\n",
       "[252 rows x 7 columns]"
      ]
     },
     "execution_count": 10,
     "metadata": {},
     "output_type": "execute_result"
    }
   ],
   "source": [
    "data"
   ]
  },
  {
   "cell_type": "code",
   "execution_count": 11,
   "metadata": {},
   "outputs": [
    {
     "data": {
      "text/plain": [
       "(252, 7)"
      ]
     },
     "execution_count": 11,
     "metadata": {},
     "output_type": "execute_result"
    }
   ],
   "source": [
    "data.shape"
   ]
  },
  {
   "cell_type": "code",
   "execution_count": 13,
   "metadata": {},
   "outputs": [
    {
     "data": {
      "text/plain": [
       "0"
      ]
     },
     "execution_count": 13,
     "metadata": {},
     "output_type": "execute_result"
    }
   ],
   "source": [
    "duplicates = data.duplicated()\n",
    "sum(duplicates)"
   ]
  },
  {
   "cell_type": "code",
   "execution_count": 18,
   "metadata": {},
   "outputs": [
    {
     "data": {
      "text/html": [
       "<div>\n",
       "<style scoped>\n",
       "    .dataframe tbody tr th:only-of-type {\n",
       "        vertical-align: middle;\n",
       "    }\n",
       "\n",
       "    .dataframe tbody tr th {\n",
       "        vertical-align: top;\n",
       "    }\n",
       "\n",
       "    .dataframe thead th {\n",
       "        text-align: right;\n",
       "    }\n",
       "</style>\n",
       "<table border=\"1\" class=\"dataframe\">\n",
       "  <thead>\n",
       "    <tr style=\"text-align: right;\">\n",
       "      <th></th>\n",
       "      <th>Date</th>\n",
       "      <th>Open</th>\n",
       "      <th>High</th>\n",
       "      <th>Low</th>\n",
       "      <th>Close</th>\n",
       "      <th>Adj Close</th>\n",
       "      <th>Volume</th>\n",
       "    </tr>\n",
       "  </thead>\n",
       "  <tbody>\n",
       "    <tr>\n",
       "      <th>0</th>\n",
       "      <td>2018-07-10</td>\n",
       "      <td>80.540001</td>\n",
       "      <td>80.540001</td>\n",
       "      <td>79.760002</td>\n",
       "      <td>80.010002</td>\n",
       "      <td>75.998039</td>\n",
       "      <td>1154715</td>\n",
       "    </tr>\n",
       "    <tr>\n",
       "      <th>1</th>\n",
       "      <td>2018-07-11</td>\n",
       "      <td>79.250000</td>\n",
       "      <td>79.599998</td>\n",
       "      <td>78.239998</td>\n",
       "      <td>78.870003</td>\n",
       "      <td>74.915207</td>\n",
       "      <td>1715985</td>\n",
       "    </tr>\n",
       "    <tr>\n",
       "      <th>2</th>\n",
       "      <td>2018-07-12</td>\n",
       "      <td>80.599998</td>\n",
       "      <td>80.730003</td>\n",
       "      <td>79.099998</td>\n",
       "      <td>79.370003</td>\n",
       "      <td>75.390137</td>\n",
       "      <td>1557826</td>\n",
       "    </tr>\n",
       "    <tr>\n",
       "      <th>3</th>\n",
       "      <td>2018-07-13</td>\n",
       "      <td>79.900002</td>\n",
       "      <td>80.059998</td>\n",
       "      <td>79.309998</td>\n",
       "      <td>79.620003</td>\n",
       "      <td>75.627594</td>\n",
       "      <td>1053721</td>\n",
       "    </tr>\n",
       "    <tr>\n",
       "      <th>4</th>\n",
       "      <td>2018-07-16</td>\n",
       "      <td>79.550003</td>\n",
       "      <td>79.980003</td>\n",
       "      <td>78.769997</td>\n",
       "      <td>79.290001</td>\n",
       "      <td>75.314140</td>\n",
       "      <td>963914</td>\n",
       "    </tr>\n",
       "    <tr>\n",
       "      <th>...</th>\n",
       "      <td>...</td>\n",
       "      <td>...</td>\n",
       "      <td>...</td>\n",
       "      <td>...</td>\n",
       "      <td>...</td>\n",
       "      <td>...</td>\n",
       "      <td>...</td>\n",
       "    </tr>\n",
       "    <tr>\n",
       "      <th>247</th>\n",
       "      <td>2019-07-04</td>\n",
       "      <td>66.440002</td>\n",
       "      <td>67.470001</td>\n",
       "      <td>66.440002</td>\n",
       "      <td>67.110001</td>\n",
       "      <td>67.110001</td>\n",
       "      <td>1641200</td>\n",
       "    </tr>\n",
       "    <tr>\n",
       "      <th>248</th>\n",
       "      <td>2019-07-05</td>\n",
       "      <td>67.290001</td>\n",
       "      <td>67.410004</td>\n",
       "      <td>66.589996</td>\n",
       "      <td>67.050003</td>\n",
       "      <td>67.050003</td>\n",
       "      <td>1332435</td>\n",
       "    </tr>\n",
       "    <tr>\n",
       "      <th>249</th>\n",
       "      <td>2019-07-08</td>\n",
       "      <td>66.610001</td>\n",
       "      <td>67.410004</td>\n",
       "      <td>66.480003</td>\n",
       "      <td>66.699997</td>\n",
       "      <td>66.699997</td>\n",
       "      <td>1091683</td>\n",
       "    </tr>\n",
       "    <tr>\n",
       "      <th>250</th>\n",
       "      <td>2019-07-09</td>\n",
       "      <td>66.349998</td>\n",
       "      <td>66.500000</td>\n",
       "      <td>65.250000</td>\n",
       "      <td>66.169998</td>\n",
       "      <td>66.169998</td>\n",
       "      <td>1823803</td>\n",
       "    </tr>\n",
       "    <tr>\n",
       "      <th>251</th>\n",
       "      <td>2019-07-10</td>\n",
       "      <td>65.589996</td>\n",
       "      <td>66.209999</td>\n",
       "      <td>65.489998</td>\n",
       "      <td>65.650002</td>\n",
       "      <td>65.650002</td>\n",
       "      <td>1386605</td>\n",
       "    </tr>\n",
       "  </tbody>\n",
       "</table>\n",
       "<p>252 rows × 7 columns</p>\n",
       "</div>"
      ],
      "text/plain": [
       "           Date       Open       High        Low      Close  Adj Close  \\\n",
       "0    2018-07-10  80.540001  80.540001  79.760002  80.010002  75.998039   \n",
       "1    2018-07-11  79.250000  79.599998  78.239998  78.870003  74.915207   \n",
       "2    2018-07-12  80.599998  80.730003  79.099998  79.370003  75.390137   \n",
       "3    2018-07-13  79.900002  80.059998  79.309998  79.620003  75.627594   \n",
       "4    2018-07-16  79.550003  79.980003  78.769997  79.290001  75.314140   \n",
       "..          ...        ...        ...        ...        ...        ...   \n",
       "247  2019-07-04  66.440002  67.470001  66.440002  67.110001  67.110001   \n",
       "248  2019-07-05  67.290001  67.410004  66.589996  67.050003  67.050003   \n",
       "249  2019-07-08  66.610001  67.410004  66.480003  66.699997  66.699997   \n",
       "250  2019-07-09  66.349998  66.500000  65.250000  66.169998  66.169998   \n",
       "251  2019-07-10  65.589996  66.209999  65.489998  65.650002  65.650002   \n",
       "\n",
       "      Volume  \n",
       "0    1154715  \n",
       "1    1715985  \n",
       "2    1557826  \n",
       "3    1053721  \n",
       "4     963914  \n",
       "..       ...  \n",
       "247  1641200  \n",
       "248  1332435  \n",
       "249  1091683  \n",
       "250  1823803  \n",
       "251  1386605  \n",
       "\n",
       "[252 rows x 7 columns]"
      ]
     },
     "execution_count": 18,
     "metadata": {},
     "output_type": "execute_result"
    }
   ],
   "source": [
    "# removing dupliate\n",
    "data = data.drop_duplicates()\n",
    "data"
   ]
  },
  {
   "cell_type": "code",
   "execution_count": 19,
   "metadata": {},
   "outputs": [],
   "source": [
    "# Necessary librrarie import"
   ]
  },
  {
   "cell_type": "code",
   "execution_count": 43,
   "metadata": {},
   "outputs": [],
   "source": [
    "import sklearn\n",
    "from sklearn import datasets\n",
    "from  sklearn import tree\n",
    "from sklearn.model_selection import train_test_split"
   ]
  },
  {
   "cell_type": "code",
   "execution_count": 37,
   "metadata": {},
   "outputs": [],
   "source": [
    "iris = datasets.load_iris()\n",
    "X = iris.data\n",
    "y = iris.target"
   ]
  },
  {
   "cell_type": "code",
   "execution_count": 47,
   "metadata": {},
   "outputs": [],
   "source": [
    "X_train,X_test, y_train,y_test = train_test_split(X,y,test_size = 0.3)"
   ]
  },
  {
   "cell_type": "code",
   "execution_count": 48,
   "metadata": {},
   "outputs": [],
   "source": [
    "my_classifier = tree.DecisionTreeClassifier()"
   ]
  },
  {
   "cell_type": "code",
   "execution_count": 50,
   "metadata": {},
   "outputs": [
    {
     "data": {
      "text/plain": [
       "DecisionTreeClassifier()"
      ]
     },
     "execution_count": 50,
     "metadata": {},
     "output_type": "execute_result"
    }
   ],
   "source": [
    "my_classifier.fit(X_train,y_train)"
   ]
  },
  {
   "cell_type": "code",
   "execution_count": 55,
   "metadata": {},
   "outputs": [],
   "source": [
    "pred = my_classifier.predict(X_test)"
   ]
  },
  {
   "cell_type": "code",
   "execution_count": 56,
   "metadata": {},
   "outputs": [],
   "source": [
    "from sklearn.metrics import accuracy_score"
   ]
  },
  {
   "cell_type": "code",
   "execution_count": 59,
   "metadata": {},
   "outputs": [
    {
     "data": {
      "text/plain": [
       "0.9555555555555556"
      ]
     },
     "execution_count": 59,
     "metadata": {},
     "output_type": "execute_result"
    }
   ],
   "source": [
    "accuracy_score( y_test,pred)"
   ]
  },
  {
   "cell_type": "code",
   "execution_count": null,
   "metadata": {},
   "outputs": [],
   "source": []
  }
 ],
 "metadata": {
  "kernelspec": {
   "display_name": "Python 3 (ipykernel)",
   "language": "python",
   "name": "python3"
  },
  "language_info": {
   "codemirror_mode": {
    "name": "ipython",
    "version": 3
   },
   "file_extension": ".py",
   "mimetype": "text/x-python",
   "name": "python",
   "nbconvert_exporter": "python",
   "pygments_lexer": "ipython3",
   "version": "3.8.12"
  }
 },
 "nbformat": 4,
 "nbformat_minor": 4
}
